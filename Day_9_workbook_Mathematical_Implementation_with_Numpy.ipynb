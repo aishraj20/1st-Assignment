{
  "cells": [
    {
      "cell_type": "markdown",
      "metadata": {
        "id": "view-in-github",
        "colab_type": "text"
      },
      "source": [
        "<a href=\"https://colab.research.google.com/github/aishraj20/1st-Assignment/blob/master/Day_9_workbook_Mathematical_Implementation_with_Numpy.ipynb\" target=\"_parent\"><img src=\"https://colab.research.google.com/assets/colab-badge.svg\" alt=\"Open In Colab\"/></a>"
      ]
    },
    {
      "cell_type": "code",
      "execution_count": null,
      "metadata": {
        "id": "BYgFzCe2ASiY"
      },
      "outputs": [],
      "source": [
        "# Array manipulation\n",
        "    # Reshaping\n",
        "    # Stacking\n",
        "    # Concatenating\n",
        "    # Sorting\n",
        "    # Splitting"
      ]
    },
    {
      "cell_type": "code",
      "execution_count": null,
      "metadata": {
        "id": "fGNJwqM7Irg0"
      },
      "outputs": [],
      "source": [
        "import numpy as np"
      ]
    },
    {
      "cell_type": "markdown",
      "metadata": {
        "id": "PtuUoefuj4nV"
      },
      "source": [
        "# Mathematical operations\n",
        "\n",
        "addition, subtraction, division, multiplication, etc.\n",
        "One thing to note here is that NumPy comes with its own set of methods and operations. You should not assume that the operators will work in the same way as lists. Look at the example below."
      ]
    },
    {
      "cell_type": "code",
      "execution_count": null,
      "metadata": {
        "id": "tkPxCeJIL2cj"
      },
      "outputs": [],
      "source": [
        "# addition : + / np.add()\n",
        "# subtraction:  - / np.subtract()\n",
        "# multiply : * / np.multiply()\n",
        "# division /\n",
        "# floor_divide //\n",
        "# exponential **\n",
        "# mod  %"
      ]
    },
    {
      "cell_type": "code",
      "execution_count": null,
      "metadata": {
        "id": "ifMmkpcviu7A"
      },
      "outputs": [],
      "source": [
        "arr1 = np.array([1,2,3])\n",
        "arr2 = np.array([4,5,6])"
      ]
    },
    {
      "cell_type": "code",
      "execution_count": null,
      "metadata": {
        "colab": {
          "base_uri": "https://localhost:8080/"
        },
        "id": "Md4PsXRDuQgv",
        "outputId": "b6241c49-14ec-4858-e9ef-0d6e2001d657"
      },
      "outputs": [
        {
          "output_type": "stream",
          "name": "stdout",
          "text": [
            "[1 2 3]\n",
            "[4 5 6]\n"
          ]
        }
      ],
      "source": [
        "print(arr1)\n",
        "print(arr2)"
      ]
    },
    {
      "cell_type": "code",
      "execution_count": null,
      "metadata": {
        "colab": {
          "base_uri": "https://localhost:8080/"
        },
        "id": "CKpw452XixXX",
        "outputId": "f1688146-60fa-433f-db4c-fad2a5fa6cc5"
      },
      "outputs": [
        {
          "output_type": "stream",
          "name": "stdout",
          "text": [
            "[5 7 9]\n",
            "[5 7 9]\n"
          ]
        }
      ],
      "source": [
        "# add  -  element by element addition\n",
        "print(arr1 + arr2)\n",
        "print(np.add(arr1, arr2))"
      ]
    },
    {
      "cell_type": "code",
      "execution_count": null,
      "metadata": {
        "colab": {
          "base_uri": "https://localhost:8080/"
        },
        "id": "Df7qY87Jj4nW",
        "outputId": "ea5a319b-e2ce-4c7b-c4d7-33ad1cff66c5"
      },
      "outputs": [
        {
          "output_type": "execute_result",
          "data": {
            "text/plain": [
              "array([1, 2, 3, 4])"
            ]
          },
          "metadata": {},
          "execution_count": 7
        }
      ],
      "source": [
        "arr3 = np.array([1,2,3,4])\n",
        "arr3"
      ]
    },
    {
      "cell_type": "code",
      "execution_count": null,
      "metadata": {
        "id": "o5ka_XxUuyW1",
        "colab": {
          "base_uri": "https://localhost:8080/",
          "height": 141
        },
        "outputId": "79603ca8-c339-410e-9fe8-5137afe98beb"
      },
      "outputs": [
        {
          "output_type": "error",
          "ename": "ValueError",
          "evalue": "operands could not be broadcast together with shapes (3,) (4,) ",
          "traceback": [
            "\u001b[0;31m---------------------------------------------------------------------------\u001b[0m",
            "\u001b[0;31mValueError\u001b[0m                                Traceback (most recent call last)",
            "\u001b[0;32m<ipython-input-8-9cd496795bf2>\u001b[0m in \u001b[0;36m<cell line: 1>\u001b[0;34m()\u001b[0m\n\u001b[0;32m----> 1\u001b[0;31m \u001b[0marr1\u001b[0m \u001b[0;34m+\u001b[0m \u001b[0marr3\u001b[0m\u001b[0;34m\u001b[0m\u001b[0;34m\u001b[0m\u001b[0m\n\u001b[0m",
            "\u001b[0;31mValueError\u001b[0m: operands could not be broadcast together with shapes (3,) (4,) "
          ]
        }
      ],
      "source": [
        "arr1 + arr3"
      ]
    },
    {
      "cell_type": "code",
      "execution_count": null,
      "metadata": {
        "id": "nSAb04Uwj4nX"
      },
      "outputs": [],
      "source": [
        "# Convert the lists to arrays and use the '+' operator or np.add() for element wise addition\n"
      ]
    },
    {
      "cell_type": "code",
      "execution_count": null,
      "metadata": {
        "colab": {
          "base_uri": "https://localhost:8080/"
        },
        "id": "lfmOVrf1vMsk",
        "outputId": "9ba52077-bd7c-4a37-9f8a-ae8832e54444"
      },
      "outputs": [
        {
          "output_type": "execute_result",
          "data": {
            "text/plain": [
              "(array([1, 2, 3]), array([4, 5, 6]))"
            ]
          },
          "metadata": {},
          "execution_count": 10
        }
      ],
      "source": [
        "arr1, arr2"
      ]
    },
    {
      "cell_type": "code",
      "execution_count": null,
      "metadata": {
        "colab": {
          "base_uri": "https://localhost:8080/"
        },
        "id": "WR4FoZ1Fj4nY",
        "outputId": "92a9ac9d-52e8-4c55-88bf-db348f533039"
      },
      "outputs": [
        {
          "output_type": "execute_result",
          "data": {
            "text/plain": [
              "array([ 4, 10, 18])"
            ]
          },
          "metadata": {},
          "execution_count": 11
        }
      ],
      "source": [
        "# use the '*' operator or np.multiply() for element wise multiplication\n",
        "arr1 * arr2"
      ]
    },
    {
      "cell_type": "code",
      "execution_count": null,
      "metadata": {
        "colab": {
          "base_uri": "https://localhost:8080/"
        },
        "id": "eErn1Ts4Mqq7",
        "outputId": "8b0fa87e-8071-44c4-c3a2-50a698cf1df5"
      },
      "outputs": [
        {
          "output_type": "execute_result",
          "data": {
            "text/plain": [
              "array([ 4, 10, 18])"
            ]
          },
          "metadata": {},
          "execution_count": 12
        }
      ],
      "source": [
        "np.multiply(arr1, arr2)"
      ]
    },
    {
      "cell_type": "code",
      "execution_count": null,
      "metadata": {
        "colab": {
          "base_uri": "https://localhost:8080/"
        },
        "id": "6d8MEdhDj4nY",
        "outputId": "ac31c0a6-03b7-4533-c62b-4c69f3bf9587"
      },
      "outputs": [
        {
          "data": {
            "text/plain": [
              "array([0.25, 0.4 , 0.5 ])"
            ]
          },
          "execution_count": 37,
          "metadata": {},
          "output_type": "execute_result"
        }
      ],
      "source": [
        "# use the '/' operator or np.divide() for element wise division\n",
        "arr1 / arr2"
      ]
    },
    {
      "cell_type": "code",
      "execution_count": null,
      "metadata": {
        "colab": {
          "base_uri": "https://localhost:8080/"
        },
        "id": "q3Wf2YivM2Rp",
        "outputId": "400f927b-39d4-4b97-a95e-49574750d402"
      },
      "outputs": [
        {
          "data": {
            "text/plain": [
              "array([0.25, 0.4 , 0.5 ])"
            ]
          },
          "execution_count": 38,
          "metadata": {},
          "output_type": "execute_result"
        }
      ],
      "source": [
        "np.divide(arr1, arr2)"
      ]
    },
    {
      "cell_type": "code",
      "execution_count": null,
      "metadata": {
        "colab": {
          "base_uri": "https://localhost:8080/"
        },
        "id": "QDs3aW4Bj4nZ",
        "outputId": "af5dc0a6-b3f4-46cd-b3af-2d36902136e1"
      },
      "outputs": [
        {
          "data": {
            "text/plain": [
              "array([3, 3, 3])"
            ]
          },
          "execution_count": 39,
          "metadata": {},
          "output_type": "execute_result"
        }
      ],
      "source": [
        "# use the '-' operator or np.subtract() for element wise subtraction\n",
        "arr2 - arr1"
      ]
    },
    {
      "cell_type": "code",
      "execution_count": null,
      "metadata": {
        "colab": {
          "base_uri": "https://localhost:8080/"
        },
        "id": "Nsy2NppQNFCc",
        "outputId": "2620775e-3378-4415-f2ed-ea39ada00cc6"
      },
      "outputs": [
        {
          "data": {
            "text/plain": [
              "array([3, 3, 3])"
            ]
          },
          "execution_count": 40,
          "metadata": {},
          "output_type": "execute_result"
        }
      ],
      "source": [
        "np.subtract(arr2, arr1)"
      ]
    },
    {
      "cell_type": "code",
      "source": [
        "arr2, arr1"
      ],
      "metadata": {
        "colab": {
          "base_uri": "https://localhost:8080/"
        },
        "id": "mLLvRIF7GBJV",
        "outputId": "8a6191ba-7817-4416-eeea-88f4c3ad55ea"
      },
      "execution_count": null,
      "outputs": [
        {
          "output_type": "execute_result",
          "data": {
            "text/plain": [
              "(array([4, 5, 6]), array([1, 2, 3]))"
            ]
          },
          "metadata": {},
          "execution_count": 13
        }
      ]
    },
    {
      "cell_type": "code",
      "execution_count": null,
      "metadata": {
        "colab": {
          "base_uri": "https://localhost:8080/"
        },
        "id": "GT2IdyRopCF0",
        "outputId": "43ffab81-3e62-4bff-d0dd-acd5919293e7"
      },
      "outputs": [
        {
          "data": {
            "text/plain": [
              "array([4, 2, 2])"
            ]
          },
          "execution_count": 46,
          "metadata": {},
          "output_type": "execute_result"
        }
      ],
      "source": [
        "# use the '//' operator or np.floor_divide() for element wise floor division\n",
        "arr2 // arr1"
      ]
    },
    {
      "cell_type": "code",
      "execution_count": null,
      "metadata": {
        "colab": {
          "base_uri": "https://localhost:8080/"
        },
        "id": "DfB8uuT3jVwG",
        "outputId": "f65bc504-4765-4c8a-cf94-2506e7ea1c3c"
      },
      "outputs": [
        {
          "data": {
            "text/plain": [
              "array([4, 2, 2])"
            ]
          },
          "execution_count": 47,
          "metadata": {},
          "output_type": "execute_result"
        }
      ],
      "source": [
        "np.floor_divide(arr2, arr1)"
      ]
    },
    {
      "cell_type": "code",
      "execution_count": null,
      "metadata": {
        "colab": {
          "base_uri": "https://localhost:8080/"
        },
        "id": "4As8OgLXpq3q",
        "outputId": "e149bfac-641d-4b40-eed6-c392881ed67a"
      },
      "outputs": [
        {
          "data": {
            "text/plain": [
              "array([0, 1, 0])"
            ]
          },
          "execution_count": 51,
          "metadata": {},
          "output_type": "execute_result"
        }
      ],
      "source": [
        "# use the '%' operator or np.mod() for element wise modulo\n",
        "arr2 % arr1"
      ]
    },
    {
      "cell_type": "code",
      "execution_count": null,
      "metadata": {
        "colab": {
          "base_uri": "https://localhost:8080/"
        },
        "id": "trePfabUNoSo",
        "outputId": "8c1edc07-fa32-4022-ef14-34aee91b006a"
      },
      "outputs": [
        {
          "data": {
            "text/plain": [
              "array([0, 1, 0])"
            ]
          },
          "execution_count": 52,
          "metadata": {},
          "output_type": "execute_result"
        }
      ],
      "source": [
        "np.mod(arr2, arr1)"
      ]
    },
    {
      "cell_type": "code",
      "execution_count": null,
      "metadata": {
        "colab": {
          "base_uri": "https://localhost:8080/"
        },
        "id": "Zp-y6qh-wq1i",
        "outputId": "984cb51b-3b54-4e56-c5ae-ac1cb05fae75"
      },
      "outputs": [
        {
          "data": {
            "text/plain": [
              "(array([1, 2, 3]), array([4, 5, 6]))"
            ]
          },
          "execution_count": 55,
          "metadata": {},
          "output_type": "execute_result"
        }
      ],
      "source": [
        "arr1, arr2"
      ]
    },
    {
      "cell_type": "code",
      "execution_count": null,
      "metadata": {
        "colab": {
          "base_uri": "https://localhost:8080/"
        },
        "id": "xYkVp_ahqGYl",
        "outputId": "18efbba7-cd14-44bd-83a8-19bd588ea40f"
      },
      "outputs": [
        {
          "data": {
            "text/plain": [
              "array([  1,  32, 729])"
            ]
          },
          "execution_count": 54,
          "metadata": {},
          "output_type": "execute_result"
        }
      ],
      "source": [
        "# use the '**' operator or np.power() for element wise exponentiation\n",
        "arr1 ** arr2"
      ]
    },
    {
      "cell_type": "code",
      "execution_count": null,
      "metadata": {
        "colab": {
          "base_uri": "https://localhost:8080/"
        },
        "id": "-TQ2JuY0N5YD",
        "outputId": "305f3d2b-662e-477c-b56d-b81136aaf073"
      },
      "outputs": [
        {
          "data": {
            "text/plain": [
              "array([  1,  32, 729])"
            ]
          },
          "execution_count": 56,
          "metadata": {},
          "output_type": "execute_result"
        }
      ],
      "source": [
        "np.power(arr1 , arr2)"
      ]
    },
    {
      "cell_type": "code",
      "execution_count": null,
      "metadata": {
        "colab": {
          "base_uri": "https://localhost:8080/"
        },
        "id": "taLSaqZyj4na",
        "outputId": "f1f4124c-7d86-4e2f-e4db-a05b54ccbd3f"
      },
      "outputs": [
        {
          "data": {
            "text/plain": [
              "array([ 5, 10, 15])"
            ]
          },
          "execution_count": 58,
          "metadata": {},
          "output_type": "execute_result"
        }
      ],
      "source": [
        "# Scaler multiplication\n",
        "arr1 * 5"
      ]
    },
    {
      "cell_type": "code",
      "execution_count": null,
      "metadata": {
        "colab": {
          "base_uri": "https://localhost:8080/"
        },
        "id": "-yN3fhYNj4na",
        "outputId": "0a79c0cf-f61b-484d-a29f-5460fb5a6212"
      },
      "outputs": [
        {
          "data": {
            "text/plain": [
              "array([11, 12, 13])"
            ]
          },
          "execution_count": 60,
          "metadata": {},
          "output_type": "execute_result"
        }
      ],
      "source": [
        "# Scaler addition\n",
        "arr1 + 10"
      ]
    },
    {
      "cell_type": "code",
      "execution_count": null,
      "metadata": {
        "colab": {
          "base_uri": "https://localhost:8080/"
        },
        "id": "4dhvlO_4j4nb",
        "outputId": "fbde2f66-8706-4f8c-faef-63010ad74946"
      },
      "outputs": [
        {
          "data": {
            "text/plain": [
              "array([0.5, 1. , 1.5])"
            ]
          },
          "execution_count": 61,
          "metadata": {},
          "output_type": "execute_result"
        }
      ],
      "source": [
        "# Scaler division\n",
        "arr1 / 2"
      ]
    },
    {
      "cell_type": "code",
      "execution_count": null,
      "metadata": {
        "colab": {
          "base_uri": "https://localhost:8080/"
        },
        "id": "KBiFB_Ngj4nc",
        "outputId": "e36f45cd-0111-4792-b34d-80398a1dbd19"
      },
      "outputs": [
        {
          "data": {
            "text/plain": [
              "array([-4, -3, -2])"
            ]
          },
          "execution_count": 62,
          "metadata": {},
          "output_type": "execute_result"
        }
      ],
      "source": [
        "# # Scaler subtraction\n",
        "arr1 - 5"
      ]
    },
    {
      "cell_type": "code",
      "execution_count": null,
      "metadata": {
        "colab": {
          "base_uri": "https://localhost:8080/"
        },
        "id": "T0v3Vp8gsEIt",
        "outputId": "cb8fd8fe-b50e-4cec-b956-a4746953bdf4"
      },
      "outputs": [
        {
          "data": {
            "text/plain": [
              "array([ 1,  8, 27])"
            ]
          },
          "execution_count": 65,
          "metadata": {},
          "output_type": "execute_result"
        }
      ],
      "source": [
        "# squaring the terms\n",
        "np.power(arr1, 3)"
      ]
    },
    {
      "cell_type": "code",
      "execution_count": null,
      "metadata": {
        "colab": {
          "base_uri": "https://localhost:8080/"
        },
        "id": "N3zWISJ7Qgnx",
        "outputId": "944db446-1207-4e87-9e7c-f09f912bc922"
      },
      "outputs": [
        {
          "data": {
            "text/plain": [
              "array([1, 4, 1, 4])"
            ]
          },
          "execution_count": 66,
          "metadata": {},
          "output_type": "execute_result"
        }
      ],
      "source": [
        "np.array([1,2,-1,-2])**2"
      ]
    },
    {
      "cell_type": "code",
      "execution_count": null,
      "metadata": {
        "id": "GEJIC7w2sUci"
      },
      "outputs": [],
      "source": [
        "np.sin(1.57079633)\n"
      ]
    },
    {
      "cell_type": "code",
      "execution_count": null,
      "metadata": {
        "colab": {
          "base_uri": "https://localhost:8080/"
        },
        "id": "ojXSx-RGsXtZ",
        "outputId": "5eb6a437-99f9-4455-a782-f2ecb87a3100"
      },
      "outputs": [
        {
          "output_type": "stream",
          "name": "stdout",
          "text": [
            "2.302585092994046\n"
          ]
        }
      ],
      "source": [
        "# np.log()\n",
        "print(np.log(10))"
      ]
    },
    {
      "cell_type": "code",
      "execution_count": null,
      "metadata": {
        "colab": {
          "base_uri": "https://localhost:8080/"
        },
        "id": "fTjmt5vYsaRD",
        "outputId": "dcf5e0a0-6b89-4922-9992-d55f083bb71e"
      },
      "outputs": [
        {
          "name": "stdout",
          "output_type": "stream",
          "text": [
            "[1 2 1 2]\n"
          ]
        }
      ],
      "source": [
        "# getting the absolute value of the elements\n",
        "print(np.absolute(np.array([1,2,-1,-2])))"
      ]
    },
    {
      "cell_type": "code",
      "execution_count": null,
      "metadata": {
        "colab": {
          "base_uri": "https://localhost:8080/"
        },
        "id": "z3ZhtEBvQuol",
        "outputId": "0b976f6a-43f9-478f-9959-69ebd9c65f50"
      },
      "outputs": [
        {
          "data": {
            "text/plain": [
              "4"
            ]
          },
          "execution_count": 69,
          "metadata": {},
          "output_type": "execute_result"
        }
      ],
      "source": [
        "np.absolute(-4)   # |x|"
      ]
    },
    {
      "cell_type": "markdown",
      "metadata": {
        "id": "KB4I6QLxj4nd"
      },
      "source": [
        "# Case Study: Cricket Tournament\n",
        "\n",
        "A panel wants to select players for an upcoming league match based on their fitness. Players from all significant cricket clubs have participated in a practice match, and their data is collected. Let us now explore NumPy features using the player's data.\n",
        "\n",
        "#### Height of the payers is stored as a regular Python list: height_in. The height is expressed in inches.\n",
        "\n",
        "#### Weight of the payers is stored as a regular Python list: weight_lb. The weight is expressed in pounds."
      ]
    },
    {
      "cell_type": "markdown",
      "metadata": {
        "id": "YxEImMKaj4ng"
      },
      "source": [
        "**Multiplication with a factor**\n",
        "\n",
        "Now, let's convert the height and weight of the players into more generic units.\n",
        "* Height in metres\n",
        "* Weight in kilograms"
      ]
    },
    {
      "cell_type": "code",
      "execution_count": null,
      "metadata": {
        "id": "hGNGProEj4nd"
      },
      "outputs": [],
      "source": [
        "heights_in = [74, 74, 72, 72, 73, 69, 69, 71, 76, 71, 73, 73, 74, 74, 69, 70, 73, 75, 78, 79, 76, 74, 76, 72, 71, 75, 77, 74, 73, 74, 78, 73, 75, 73, 75, 75, 74, 69, 71, 74, 73, 73, 76, 74, 74, 70, 72, 77, 74, 70, 73, 75, 76, 76, 78, 74, 74, 76, 77, 81, 78, 75, 77, 75, 76, 74, 72, 72, 75, 73, 73, 73, 70, 70, 70, 76, 68, 71, 72, 75, 75, 75, 75, 68, 74, 78, 71, 73, 76, 74, 74, 79, 75, 73, 76, 74, 74, 73, 72, 74, 73, 74, 72, 73, 69, 72, 73, 75, 75, 73, 72, 72, 76, 74, 72, 77, 74, 77, 75, 76, 80, 74, 74, 75, 78, 73, 73, 74, 75, 76, 71, 73, 74, 76, 76, 74, 73, 74, 70, 72, 73, 73, 73, 73, 71, 74, 74, 72, 74, 71, 74, 73, 75, 75, 79, 73, 75, 76, 74, 76, 78, 74, 76, 72, 74, 76, 74, 75, 78, 75, 72, 74, 72, 74, 70, 71, 70, 75, 71, 71, 73, 72, 71, 73, 72, 75, 74, 74, 75, 73, 77, 73, 76, 75, 74, 76, 75, 73, 71, 76, 75, 72, 71, 77, 73, 74, 71, 72, 74, 75, 73, 72, 75, 75, 74, 72, 74, 71, 70, 74, 77, 77, 75, 75, 78, 75, 76, 73, 75, 75, 79, 77, 76, 71, 75, 74, 69, 71, 76, 72, 72, 70, 72, 73, 71, 72, 71, 73, 72, 73, 74, 74, 72, 75, 74, 74, 77, 75, 73, 72, 71, 74, 77, 75, 75, 75, 78, 78, 74, 76, 78, 76, 70, 72, 80, 74, 74, 71, 70, 72, 71, 74, 71, 72, 71, 74, 69, 76, 75, 75, 76, 73, 76, 73, 77, 73, 72, 72, 77, 77, 71, 74, 74, 73, 78, 75, 73, 70, 74, 72, 73, 73, 75, 75, 74, 76, 73, 74, 75, 75, 72, 73, 73, 72, 74, 78, 76, 73, 74, 75, 70, 75, 71, 72, 78, 75, 73, 73, 71, 75, 77, 72, 69, 73, 74, 72, 70, 75, 70, 72, 72, 74, 73, 74, 76, 75, 80, 72, 75, 73, 74, 74, 73, 75, 75, 71, 73, 75, 74, 74, 72, 74, 74, 74, 73, 76, 75, 72, 73, 73, 73, 72, 72, 72, 72, 71, 75, 75, 74, 73, 75, 79, 74, 76, 73, 74, 74, 72, 74, 74, 75, 78, 74, 74, 74, 77, 70, 73, 74, 73, 71, 75, 71, 72, 77, 74, 70, 77, 73, 72, 76, 71, 76, 78, 75, 73, 78, 74, 79, 75, 76, 72, 75, 75, 70, 72, 70, 74, 71, 76, 73, 76, 71, 69, 72, 72, 69, 73, 69, 73, 74, 74, 72, 71, 72, 72, 76, 76, 76, 74, 76, 75, 71, 72, 71, 73, 75, 76, 75, 71, 75, 74, 72, 73, 73, 73, 73, 76, 72, 76, 73, 73, 73, 75, 75, 77, 73, 72, 75, 70, 74, 72, 80, 71, 71, 74, 74, 73, 75, 76, 73, 77, 72, 73, 77, 76, 71, 75, 73, 74, 77, 71, 72, 73, 69, 73, 70, 74, 76, 73, 73, 75, 73, 79, 74, 73, 74, 77, 75, 74, 73, 77, 73, 77, 74, 74, 73, 77, 74, 77, 75, 77, 75, 71, 74, 70, 79, 72, 72, 70, 74, 74, 72, 73, 72, 74, 74, 76, 82, 74, 74, 70, 73, 73, 74, 77, 72, 76, 73, 73, 72, 74, 74, 71, 72, 75, 74, 74, 77, 70, 71, 73, 76, 71, 75, 74, 72, 76, 79, 76, 73, 76, 78, 75, 76, 72, 72, 73, 73, 75, 71, 76, 70, 75, 74, 75, 73, 71, 71, 72, 73, 73, 72, 69, 73, 78, 71, 73, 75, 76, 70, 74, 77, 75, 79, 72, 77, 73, 75, 75, 75, 73, 73, 76, 77, 75, 70, 71, 71, 75, 74, 69, 70, 75, 72, 75, 73, 72, 72, 72, 76, 75, 74, 69, 73, 72, 72, 75, 77, 76, 80, 77, 76, 79, 71, 75, 73, 76, 77, 73, 76, 70, 75, 73, 75, 70, 69, 71, 72, 72, 73, 70, 70, 73, 76, 75, 72, 73, 79, 71, 72, 74, 74, 74, 72, 76, 76, 72, 72, 71, 72, 72, 70, 77, 74, 72, 76, 71, 76, 71, 73, 70, 73, 73, 72, 71, 71, 71, 72, 72, 74, 74, 74, 71, 72, 75, 72, 71, 72, 72, 72, 72, 74, 74, 77, 75, 73, 75, 73, 76, 72, 77, 75, 72, 71, 71, 75, 72, 73, 73, 71, 70, 75, 71, 76, 73, 68, 71, 72, 74, 77, 72, 76, 78, 81, 72, 73, 76, 72, 72, 74, 76, 73, 76, 75, 70, 71, 74, 72, 73, 76, 76, 73, 71, 68, 71, 71, 74, 77, 69, 72, 76, 75, 76, 75, 76, 72, 74, 76, 74, 72, 75, 78, 77, 70, 72, 79, 74, 71, 68, 77, 75, 71, 72, 70, 72, 72, 73, 72, 74, 72, 72, 75, 72, 73, 74, 72, 78, 75, 72, 74, 75, 75, 76, 74, 74, 73, 74, 71, 74, 75, 76, 74, 76, 76, 73, 75, 75, 74, 68, 72, 75, 71, 70, 72, 73, 72, 75, 74, 70, 76, 71, 82, 72, 73, 74, 71, 75, 77, 72, 74, 72, 73, 78, 77, 73, 73, 73, 73, 73, 76, 75, 70, 73, 72, 73, 75, 74, 73, 73, 76, 73, 75, 70, 77, 72, 77, 74, 75, 75, 75, 75, 72, 74, 71, 76, 71, 75, 76, 83, 75, 74, 76, 72, 72, 75, 75, 72, 77, 73, 72, 70, 74, 72, 74, 72, 71, 70, 71, 76, 74, 76, 74, 74, 74, 75, 75, 71, 71, 74, 77, 71, 74, 75, 77, 76, 74, 76, 72, 71, 72, 75, 73, 68, 72, 69, 73, 73, 75, 70, 70, 74, 75, 74, 74, 73, 74, 75, 77, 73, 74, 76, 74, 75, 73, 76, 78, 75, 73, 77, 74, 72, 74, 72, 71, 73, 75, 73, 67, 67, 76, 74, 73, 70, 75, 70, 72, 77, 79, 78, 74, 75, 75, 78, 76, 75, 69, 75, 72, 75, 73, 74, 75, 75, 73]\n",
        "weights_lb = [180, 215, 210, 210, 188, 176, 209, 200, 231, 180, 188, 180, 185, 160, 180, 185, 189, 185, 219, 230, 205, 230, 195, 180, 192, 225, 203, 195, 182, 188, 200, 180, 200, 200, 245, 240, 215, 185, 175, 199, 200, 215, 200, 205, 206, 186, 188, 220, 210, 195, 200, 200, 212, 224, 210, 205, 220, 195, 200, 260, 228, 270, 200, 210, 190, 220, 180, 205, 210, 220, 211, 200, 180, 190, 170, 230, 155, 185, 185, 200, 225, 225, 220, 160, 205, 235, 250, 210, 190, 160, 200, 205, 222, 195, 205, 220, 220, 170, 185, 195, 220, 230, 180, 220, 180, 180, 170, 210, 215, 200, 213, 180, 192, 235, 185, 235, 210, 222, 210, 230, 220, 180, 190, 200, 210, 194, 180, 190, 240, 200, 198, 200, 195, 210, 220, 190, 210, 225, 180, 185, 170, 185, 185, 180, 178, 175, 200, 204, 211, 190, 210, 190, 190, 185, 290, 175, 185, 200, 220, 170, 220, 190, 220, 205, 200, 250, 225, 215, 210, 215, 195, 200, 194, 220, 180, 180, 170, 195, 180, 170, 206, 205, 200, 225, 201, 225, 233, 180, 225, 180, 220, 180, 237, 215, 190, 235, 190, 180, 165, 195, 200, 190, 190, 185, 185, 205, 190, 205, 206, 220, 208, 170, 195, 210, 190, 211, 230, 170, 185, 185, 241, 225, 210, 175, 230, 200, 215, 198, 226, 278, 215, 230, 240, 184, 219, 170, 218, 190, 225, 220, 176, 190, 197, 204, 167, 180, 195, 220, 215, 185, 190, 205, 205, 200, 210, 215, 200, 205, 211, 190, 208, 200, 210, 232, 230, 210, 220, 210, 202, 212, 225, 170, 190, 200, 237, 220, 170, 193, 190, 150, 220, 200, 190, 185, 185, 200, 172, 220, 225, 190, 195, 219, 190, 197, 200, 195, 210, 177, 220, 235, 180, 195, 195, 190, 230, 190, 200, 190, 190, 200, 200, 184, 200, 180, 219, 187, 200, 220, 205, 190, 170, 160, 215, 175, 205, 200, 214, 200, 190, 180, 205, 220, 190, 215, 235, 191, 200, 181, 200, 210, 240, 185, 165, 190, 185, 175, 155, 210, 170, 175, 220, 210, 205, 200, 205, 195, 240, 150, 200, 215, 202, 200, 190, 205, 190, 160, 215, 185, 200, 190, 210, 185, 220, 190, 202, 205, 220, 175, 160, 190, 200, 229, 206, 220, 180, 195, 175, 188, 230, 190, 200, 190, 219, 235, 180, 180, 180, 200, 234, 185, 220, 223, 200, 210, 200, 210, 190, 177, 227, 180, 195, 199, 175, 185, 240, 210, 180, 194, 225, 180, 205, 193, 230, 230, 220, 200, 249, 190, 208, 245, 250, 160, 192, 220, 170, 197, 155, 190, 200, 220, 210, 228, 190, 160, 184, 180, 180, 200, 176, 160, 222, 211, 195, 200, 175, 206, 240, 185, 260, 185, 221, 205, 200, 170, 201, 205, 185, 205, 245, 220, 210, 220, 185, 175, 170, 180, 200, 210, 175, 220, 206, 180, 210, 195, 200, 200, 164, 180, 220, 195, 205, 170, 240, 210, 195, 200, 205, 192, 190, 170, 240, 200, 205, 175, 250, 220, 224, 210, 195, 180, 245, 175, 180, 215, 175, 180, 195, 230, 230, 205, 215, 195, 180, 205, 180, 190, 180, 190, 190, 220, 210, 255, 190, 230, 200, 205, 210, 225, 215, 220, 205, 200, 220, 197, 225, 187, 245, 185, 185, 175, 200, 180, 188, 225, 200, 210, 245, 213, 231, 165, 228, 210, 250, 191, 190, 200, 215, 254, 232, 180, 215, 220, 180, 200, 170, 195, 210, 200, 220, 165, 180, 200, 200, 170, 224, 220, 180, 198, 240, 239, 185, 210, 220, 200, 195, 220, 230, 170, 220, 230, 165, 205, 192, 210, 205, 200, 210, 185, 195, 202, 205, 195, 180, 200, 185, 240, 185, 220, 205, 205, 180, 201, 190, 208, 240, 180, 230, 195, 215, 190, 195, 215, 215, 220, 220, 230, 195, 190, 195, 209, 204, 170, 185, 205, 175, 210, 190, 180, 180, 160, 235, 200, 210, 180, 190, 197, 203, 205, 170, 200, 250, 200, 220, 200, 190, 170, 190, 220, 215, 206, 215, 185, 235, 188, 230, 195, 168, 190, 160, 200, 200, 189, 180, 190, 200, 220, 187, 240, 190, 180, 185, 210, 220, 219, 190, 193, 175, 180, 215, 210, 200, 190, 185, 220, 170, 195, 205, 195, 210, 190, 190, 180, 220, 190, 186, 185, 190, 180, 190, 170, 210, 240, 220, 180, 210, 210, 195, 160, 180, 205, 200, 185, 245, 190, 210, 200, 200, 222, 215, 240, 170, 220, 156, 190, 202, 221, 200, 190, 210, 190, 200, 165, 190, 185, 230, 208, 209, 175, 180, 200, 205, 200, 250, 210, 230, 244, 202, 240, 200, 215, 177, 210, 170, 215, 217, 198, 200, 220, 170, 200, 230, 231, 183, 192, 167, 190, 180, 180, 215, 160, 205, 223, 175, 170, 190, 240, 175, 230, 223, 196, 167, 195, 190, 250, 190, 190, 190, 170, 160, 150, 225, 220, 209, 210, 176, 260, 195, 190, 184, 180, 195, 195, 219, 225, 212, 202, 185, 200, 209, 200, 195, 228, 210, 190, 212, 190, 218, 220, 190, 235, 210, 200, 188, 210, 235, 188, 215, 216, 220, 180, 185, 200, 210, 220, 185, 231, 210, 195, 200, 205, 200, 190, 250, 185, 180, 170, 180, 208, 235, 215, 244, 220, 185, 230, 190, 200, 180, 190, 196, 180, 230, 224, 160, 178, 205, 185, 210, 180, 190, 200, 257, 190, 220, 165, 205, 200, 208, 185, 215, 170, 235, 210, 170, 180, 170, 190, 150, 230, 203, 260, 246, 186, 210, 198, 210, 215, 180, 200, 245, 200, 192, 192, 200, 192, 205, 190, 186, 170, 197, 219, 200, 220, 207, 225, 207, 212, 225, 170, 190, 210, 230, 210, 200, 238, 234, 222, 200, 190, 170, 220, 223, 210, 215, 196, 175, 175, 189, 205, 210, 180, 180, 197, 220, 228, 190, 204, 165, 216, 220, 208, 210, 215, 195, 200, 215, 229, 240, 207, 205, 208, 185, 190, 170, 208, 225, 190, 225, 185, 180, 165, 240, 220, 212, 163, 215, 175, 205, 210, 205, 208, 215, 180, 200, 230, 211, 230, 190, 220, 180, 205, 190, 180, 205, 190, 195]"
      ]
    },
    {
      "cell_type": "code",
      "source": [
        "len(heights_in), len(weights_lb)"
      ],
      "metadata": {
        "colab": {
          "base_uri": "https://localhost:8080/"
        },
        "id": "wQmCOFtBHjwA",
        "outputId": "e679dcb1-b22e-4dad-ae5b-bea15aafc8fb"
      },
      "execution_count": null,
      "outputs": [
        {
          "output_type": "execute_result",
          "data": {
            "text/plain": [
              "(1015, 1015)"
            ]
          },
          "metadata": {},
          "execution_count": 17
        }
      ]
    },
    {
      "cell_type": "code",
      "execution_count": null,
      "metadata": {
        "id": "jzXNLuE-j4ne"
      },
      "outputs": [],
      "source": [
        "# Importing the numpy library\n",
        "import numpy as np"
      ]
    },
    {
      "cell_type": "code",
      "execution_count": null,
      "metadata": {
        "id": "j4sZC_swj4nf"
      },
      "outputs": [],
      "source": [
        "# Convert the lists into NumPy arrays\n",
        "heights_in = np.array(heights_in)\n",
        "weights_lb = np.array(weights_lb)"
      ]
    },
    {
      "cell_type": "code",
      "execution_count": null,
      "metadata": {
        "colab": {
          "base_uri": "https://localhost:8080/"
        },
        "id": "0YfHQQ_Kj4nf",
        "outputId": "b661273f-c31b-4b43-dc68-a41e450aeede"
      },
      "outputs": [
        {
          "output_type": "stream",
          "name": "stdout",
          "text": [
            "<class 'numpy.ndarray'>\n",
            "<class 'numpy.ndarray'>\n"
          ]
        }
      ],
      "source": [
        "# Print the type of the created arrays\n",
        "print(type(heights_in))\n",
        "print(type(weights_lb))"
      ]
    },
    {
      "cell_type": "code",
      "execution_count": null,
      "metadata": {
        "colab": {
          "base_uri": "https://localhost:8080/"
        },
        "id": "7bxGJFU4j4nf",
        "outputId": "fc983c81-30fb-4cd5-bc3c-48849695f653"
      },
      "outputs": [
        {
          "output_type": "execute_result",
          "data": {
            "text/plain": [
              "(1015, 1015)"
            ]
          },
          "metadata": {},
          "execution_count": 23
        }
      ],
      "source": [
        "# Print the length of the created arrays\n",
        "heights_in.size, weights_lb.size"
      ]
    },
    {
      "cell_type": "code",
      "execution_count": null,
      "metadata": {
        "id": "IGVztc8rj4ng"
      },
      "outputs": [],
      "source": [
        "# Convert the units of height and weight using appropriate factors (look in the video for the factors)\n",
        "\n",
        "     # 1 inch = 0.025 meters        1 inch = 2.54 cm\n",
        "     # 1 lb = 0.45 Kgs\n",
        "heights_m = heights_in * 0.025\n",
        "weights_kg = weights_lb * 0.45"
      ]
    },
    {
      "cell_type": "code",
      "execution_count": null,
      "metadata": {
        "colab": {
          "base_uri": "https://localhost:8080/"
        },
        "id": "YfgssrpTj4nh",
        "outputId": "0f8c42dd-70a4-4df9-aa08-093f69473eb3"
      },
      "outputs": [
        {
          "output_type": "execute_result",
          "data": {
            "text/plain": [
              "(array([1.85 , 1.85 , 1.8  , ..., 1.875, 1.875, 1.825]),\n",
              " array([81.  , 96.75, 94.5 , ..., 92.25, 85.5 , 87.75]))"
            ]
          },
          "metadata": {},
          "execution_count": 28
        }
      ],
      "source": [
        "# Print the newly created arrays\n",
        "heights_m, weights_kg"
      ]
    },
    {
      "cell_type": "markdown",
      "metadata": {
        "id": "WLlDqAt2j4nh"
      },
      "source": [
        "\n",
        "**Deriving new data from existing**\n",
        "\n",
        "Now, let us try to calculate the Body Mass Index (BMI) value for the players. The formula for BMI is:\n",
        "\n",
        "$$ BMI = \\frac{Weight\\ of\\ the\\ individual}{(Height\\ of\\ the\\ individual) ^ 2} $$"
      ]
    },
    {
      "cell_type": "code",
      "source": [
        "bmi1 = 81/(1.85**2)\n",
        "bmi1"
      ],
      "metadata": {
        "colab": {
          "base_uri": "https://localhost:8080/"
        },
        "id": "H9EynITSKs7i",
        "outputId": "258cc19b-eff0-4809-fe4c-ca94404caca0"
      },
      "execution_count": null,
      "outputs": [
        {
          "output_type": "execute_result",
          "data": {
            "text/plain": [
              "23.66691015339664"
            ]
          },
          "metadata": {},
          "execution_count": 30
        }
      ]
    },
    {
      "cell_type": "code",
      "execution_count": null,
      "metadata": {
        "id": "gZcfq3kgrJiD"
      },
      "outputs": [],
      "source": [
        "# If your BMI < 18.5, it falls within the underweight range.\n",
        "# If your BMI is 18.5 to 25, it falls within the Healthy Weight range.\n",
        "# If your BMI is 25 to 30, it falls within the overweight range.\n",
        "# If your BMI is 30.0 or higher, it falls within the obese range."
      ]
    },
    {
      "cell_type": "code",
      "execution_count": null,
      "metadata": {
        "id": "QPZxuvTyj4nh"
      },
      "outputs": [],
      "source": [
        "# Calculate the bmi value based on the formula above\n",
        "bmi = weights_kg / (heights_m**2)"
      ]
    },
    {
      "cell_type": "code",
      "execution_count": null,
      "metadata": {
        "colab": {
          "base_uri": "https://localhost:8080/"
        },
        "id": "tf2FG2qUj4ni",
        "outputId": "850470d8-0455-4ab0-ece6-af121e1fb1a8"
      },
      "outputs": [
        {
          "output_type": "execute_result",
          "data": {
            "text/plain": [
              "array([23.66691015, 28.26880935, 29.16666667, ..., 26.24      ,\n",
              "       24.32      , 26.34640646])"
            ]
          },
          "metadata": {},
          "execution_count": 33
        }
      ],
      "source": [
        "# Check the newly created array 'bmi'\n",
        "bmi"
      ]
    },
    {
      "cell_type": "code",
      "execution_count": null,
      "metadata": {
        "colab": {
          "base_uri": "https://localhost:8080/"
        },
        "id": "LCSAzWSgVDk9",
        "outputId": "dc6ef9db-f688-4b90-d8d8-0525c002998d"
      },
      "outputs": [
        {
          "data": {
            "text/plain": [
              "numpy.ndarray"
            ]
          },
          "execution_count": 61,
          "metadata": {},
          "output_type": "execute_result"
        }
      ],
      "source": [
        "type(bmi)"
      ]
    },
    {
      "cell_type": "code",
      "source": [
        "bmi.size"
      ],
      "metadata": {
        "colab": {
          "base_uri": "https://localhost:8080/"
        },
        "id": "lTQ7OtFGL3IY",
        "outputId": "d20cef66-27e6-4af1-db73-2ea2b1725bd2"
      },
      "execution_count": null,
      "outputs": [
        {
          "output_type": "execute_result",
          "data": {
            "text/plain": [
              "1015"
            ]
          },
          "metadata": {},
          "execution_count": 34
        }
      ]
    },
    {
      "cell_type": "markdown",
      "metadata": {
        "id": "-6LeMnbgj4ni"
      },
      "source": [
        "**Indexing through arrays**"
      ]
    },
    {
      "cell_type": "markdown",
      "metadata": {
        "id": "h_Qj4OuCj4ni"
      },
      "source": [
        "For **one-dimensional arrays**, indexing is **similar to Python lists** - indexing starts at 0."
      ]
    },
    {
      "cell_type": "code",
      "execution_count": null,
      "metadata": {
        "colab": {
          "base_uri": "https://localhost:8080/"
        },
        "id": "xUTcNPwsj4nj",
        "outputId": "72398ce0-05ef-4f6e-9e0b-194a0560ddea"
      },
      "outputs": [
        {
          "data": {
            "text/plain": [
              "25.400638018389937"
            ]
          },
          "execution_count": 92,
          "metadata": {},
          "output_type": "execute_result"
        }
      ],
      "source": [
        "# Obtain the 5th element from the array 'bmi'\n",
        "bmi[4]"
      ]
    },
    {
      "cell_type": "code",
      "execution_count": null,
      "metadata": {
        "colab": {
          "base_uri": "https://localhost:8080/"
        },
        "id": "j7AmtDZhj4nj",
        "outputId": "70f6966a-605e-42fa-d565-b9186a9cf808"
      },
      "outputs": [
        {
          "data": {
            "text/plain": [
              "24.32"
            ]
          },
          "execution_count": 93,
          "metadata": {},
          "output_type": "execute_result"
        }
      ],
      "source": [
        "# Obtain the 2nd last element from the array 'bmi'\n",
        "bmi[-2]"
      ]
    },
    {
      "cell_type": "code",
      "execution_count": null,
      "metadata": {
        "colab": {
          "base_uri": "https://localhost:8080/"
        },
        "id": "TCldpGHxj4nj",
        "outputId": "9b86b2eb-60f5-478a-b411-b40d09a82269"
      },
      "outputs": [
        {
          "data": {
            "text/plain": [
              "array([23.66691015, 28.26880935, 29.16666667, 29.16666667, 25.40063802])"
            ]
          },
          "execution_count": 69,
          "metadata": {},
          "output_type": "execute_result"
        }
      ],
      "source": [
        "# Obtain the first five elements from the array 'bmi'\n",
        "bmi[0:5]"
      ]
    },
    {
      "cell_type": "code",
      "execution_count": null,
      "metadata": {
        "colab": {
          "base_uri": "https://localhost:8080/"
        },
        "id": "jGj11TH5W1Hf",
        "outputId": "2c62e400-534d-4c72-cc15-4b76aa361b3d"
      },
      "outputs": [
        {
          "data": {
            "text/plain": [
              "array([23.66691015, 28.26880935, 29.16666667, ..., 26.24      ,\n",
              "       24.32      , 26.34640646])"
            ]
          },
          "execution_count": 68,
          "metadata": {},
          "output_type": "execute_result"
        }
      ],
      "source": [
        "bmi"
      ]
    },
    {
      "cell_type": "code",
      "execution_count": null,
      "metadata": {
        "colab": {
          "base_uri": "https://localhost:8080/"
        },
        "id": "dMCbeOQVj4nk",
        "outputId": "7b521702-5fb3-42f5-e4c4-bf16fdf849c6"
      },
      "outputs": [
        {
          "data": {
            "text/plain": [
              "array([26.24      , 24.32      , 26.34640646])"
            ]
          },
          "execution_count": 70,
          "metadata": {},
          "output_type": "execute_result"
        }
      ],
      "source": [
        "# Obtain the last three elements from the array 'bmi'\n",
        "bmi[-3:]"
      ]
    },
    {
      "cell_type": "markdown",
      "metadata": {
        "id": "JXspQxMZj4nh"
      },
      "source": [
        "As you can see, the NumPy way is clearly more concise. Even simple mathematical operations on lists required loops, unlike with arrays."
      ]
    },
    {
      "cell_type": "markdown",
      "metadata": {
        "id": "uneZNegqj4nm"
      },
      "source": [
        "## Subsets"
      ]
    },
    {
      "cell_type": "code",
      "execution_count": null,
      "metadata": {
        "id": "2dr6KmcjYOKz"
      },
      "outputs": [],
      "source": [
        "# If your BMI < 18.5, it falls within the underweight range.\n",
        "# If your BMI is 18.5 to 25, it falls within the Healthy Weight range.\n",
        "# If your BMI is 25 to 30, it falls within the overweight range.\n",
        "# If your BMI is 30.0 or higher, it falls within the obese range.\n",
        "\n",
        "# underweight, Healthy_Weight, overweight, obese"
      ]
    },
    {
      "cell_type": "markdown",
      "metadata": {
        "id": "rmF37JyFsuyp"
      },
      "source": [
        "\n",
        "### Filter the data"
      ]
    },
    {
      "cell_type": "code",
      "source": [
        "bmi.min()"
      ],
      "metadata": {
        "colab": {
          "base_uri": "https://localhost:8080/"
        },
        "id": "FccJ0HG_Mfj4",
        "outputId": "39b7b615-a7bd-44d2-dbe4-4ca6f12d2a14"
      },
      "execution_count": null,
      "outputs": [
        {
          "output_type": "execute_result",
          "data": {
            "text/plain": [
              "19.968"
            ]
          },
          "metadata": {},
          "execution_count": 36
        }
      ]
    },
    {
      "cell_type": "code",
      "source": [
        "# underweight   BMI < 18.5\n",
        "# bmi < 18.5\n",
        "bmi[bmi < 18.5]"
      ],
      "metadata": {
        "colab": {
          "base_uri": "https://localhost:8080/"
        },
        "id": "mYePUBA7MWrV",
        "outputId": "90b8c71b-f908-43f5-9fe2-4917429526fb"
      },
      "execution_count": null,
      "outputs": [
        {
          "output_type": "execute_result",
          "data": {
            "text/plain": [
              "array([], dtype=float64)"
            ]
          },
          "metadata": {},
          "execution_count": 38
        }
      ]
    },
    {
      "cell_type": "code",
      "source": [
        "# Healthy_Weight  - 18.5 to 25\n",
        "bmi_healthy_wt = bmi[(bmi >= 18.5) & (bmi < 25)]\n",
        "bmi_healthy_wt.size"
      ],
      "metadata": {
        "colab": {
          "base_uri": "https://localhost:8080/"
        },
        "id": "eC8vp0SAMWnw",
        "outputId": "35834893-d6e7-45ad-8ed2-44747bbe1639"
      },
      "execution_count": null,
      "outputs": [
        {
          "output_type": "execute_result",
          "data": {
            "text/plain": [
              "268"
            ]
          },
          "metadata": {},
          "execution_count": 45
        }
      ]
    },
    {
      "cell_type": "code",
      "source": [
        "# overweight - 25 to 30\n",
        "bmi_over_wt = bmi[(bmi >= 25) & (bmi < 30)]\n",
        "bmi_over_wt.size"
      ],
      "metadata": {
        "colab": {
          "base_uri": "https://localhost:8080/"
        },
        "id": "ENhdgcXKMWj7",
        "outputId": "d1e91142-03e8-49f3-938d-2efcb80f7582"
      },
      "execution_count": null,
      "outputs": [
        {
          "output_type": "execute_result",
          "data": {
            "text/plain": [
              "677"
            ]
          },
          "metadata": {},
          "execution_count": 46
        }
      ]
    },
    {
      "cell_type": "code",
      "source": [
        "# obese   >= 30\n",
        "bmi_obese = bmi[bmi >= 30]\n",
        "bmi_obese.size"
      ],
      "metadata": {
        "colab": {
          "base_uri": "https://localhost:8080/"
        },
        "id": "zDJI5pvwMWav",
        "outputId": "ab9aa086-631b-4fe2-da37-4fc54c3bced0"
      },
      "execution_count": null,
      "outputs": [
        {
          "output_type": "execute_result",
          "data": {
            "text/plain": [
              "70"
            ]
          },
          "metadata": {},
          "execution_count": 49
        }
      ]
    },
    {
      "cell_type": "code",
      "execution_count": null,
      "metadata": {
        "id": "rozTzhyRj4nq"
      },
      "outputs": [],
      "source": [
        "# Count the number of elements where bmi value is less than 22\n"
      ]
    },
    {
      "cell_type": "markdown",
      "metadata": {
        "id": "TeODp1N6mnhS"
      },
      "source": [
        "#  Statistical Analysis\n",
        "\n",
        "Statistical analysis includes finding minimum (`.min()`), maximum (`max()`), mean(`.mean()`), median(`.median()`), mode, correlation, covariance(`.cov()`), standard deviation (`.std()`) and variance (`.var()`) of the numpy array.\n",
        "\n"
      ]
    },
    {
      "cell_type": "code",
      "execution_count": null,
      "metadata": {
        "colab": {
          "base_uri": "https://localhost:8080/"
        },
        "id": "VPST6_vswwTt",
        "outputId": "d743cc8d-5c53-48e1-e00d-85c5d966f853"
      },
      "outputs": [
        {
          "output_type": "execute_result",
          "data": {
            "text/plain": [
              "array([23.66691015, 28.26880935, 29.16666667, ..., 26.24      ,\n",
              "       24.32      , 26.34640646])"
            ]
          },
          "metadata": {},
          "execution_count": 50
        }
      ],
      "source": [
        "bmi"
      ]
    },
    {
      "cell_type": "code",
      "execution_count": null,
      "metadata": {
        "colab": {
          "base_uri": "https://localhost:8080/"
        },
        "id": "DBhoKZZogJV9",
        "outputId": "d82456ea-4a99-4b74-c4da-67db27b9e091"
      },
      "outputs": [
        {
          "output_type": "execute_result",
          "data": {
            "text/plain": [
              "27084.60000092796"
            ]
          },
          "metadata": {},
          "execution_count": 51
        }
      ],
      "source": [
        "bmi.sum()"
      ]
    },
    {
      "cell_type": "code",
      "execution_count": null,
      "metadata": {
        "colab": {
          "base_uri": "https://localhost:8080/"
        },
        "id": "VKrmfRGFj4ns",
        "outputId": "ee1f4eee-cccc-46ba-ad56-c35c99381d45"
      },
      "outputs": [
        {
          "output_type": "execute_result",
          "data": {
            "text/plain": [
              "36.11111111111111"
            ]
          },
          "metadata": {},
          "execution_count": 52
        }
      ],
      "source": [
        "# Find the maximum bmi values among the players\n",
        "bmi.max()"
      ]
    },
    {
      "cell_type": "code",
      "execution_count": null,
      "metadata": {
        "colab": {
          "base_uri": "https://localhost:8080/"
        },
        "id": "JZfz1i9-j4ns",
        "outputId": "7f21d1ec-ec82-4b00-a799-4c2a78d0b1c3"
      },
      "outputs": [
        {
          "output_type": "execute_result",
          "data": {
            "text/plain": [
              "19.968"
            ]
          },
          "metadata": {},
          "execution_count": 53
        }
      ],
      "source": [
        "# Find the minimum bmi values among the players\n",
        "bmi.min()"
      ]
    },
    {
      "cell_type": "code",
      "execution_count": null,
      "metadata": {
        "colab": {
          "base_uri": "https://localhost:8080/"
        },
        "id": "Il4d-kaAj4ns",
        "outputId": "80e0119c-ccb1-4b25-fa40-463af0f972e4"
      },
      "outputs": [
        {
          "output_type": "execute_result",
          "data": {
            "text/plain": [
              "26.684334976283704"
            ]
          },
          "metadata": {},
          "execution_count": 54
        }
      ],
      "source": [
        "# Find the average bmi among the players\n",
        "bmi.mean()"
      ]
    },
    {
      "cell_type": "code",
      "execution_count": null,
      "metadata": {
        "colab": {
          "base_uri": "https://localhost:8080/"
        },
        "id": "GrkMT0G4j4nt",
        "outputId": "7683d167-fc4c-4937-cb02-84d15486bf83"
      },
      "outputs": [
        {
          "output_type": "execute_result",
          "data": {
            "text/plain": [
              "26.675900277008306"
            ]
          },
          "metadata": {},
          "execution_count": 55
        }
      ],
      "source": [
        "# find the median bmi among the players\n",
        "np.median(bmi)"
      ]
    },
    {
      "cell_type": "code",
      "execution_count": null,
      "metadata": {
        "id": "BnFOPbeDqKWq"
      },
      "outputs": [],
      "source": [
        "! pip install statistics"
      ]
    },
    {
      "cell_type": "code",
      "execution_count": null,
      "metadata": {
        "colab": {
          "base_uri": "https://localhost:8080/"
        },
        "id": "guLZIb1Uj4nu",
        "outputId": "8b4dbc95-1fb1-4aee-ca8f-d362d4c50966"
      },
      "outputs": [
        {
          "output_type": "execute_result",
          "data": {
            "text/plain": [
              "27.021955338712697"
            ]
          },
          "metadata": {},
          "execution_count": 56
        }
      ],
      "source": [
        "# to find mode in numpy array\n",
        "# Note: This step works fine in Jupyter Notebbok\n",
        "import statistics as st\n",
        "st.mode(bmi)"
      ]
    },
    {
      "cell_type": "code",
      "execution_count": null,
      "metadata": {
        "colab": {
          "base_uri": "https://localhost:8080/"
        },
        "id": "E1o8w7qI9Kr8",
        "outputId": "22c5a18a-6789-45ca-8256-f42f4746adc7"
      },
      "outputs": [
        {
          "data": {
            "text/plain": [
              "[27.021955338712697, 26.296566837107374]"
            ]
          },
          "execution_count": 128,
          "metadata": {},
          "output_type": "execute_result"
        }
      ],
      "source": [
        "st.multimode(bmi)"
      ]
    },
    {
      "cell_type": "code",
      "execution_count": null,
      "metadata": {
        "colab": {
          "base_uri": "https://localhost:8080/"
        },
        "id": "sUV1e83xoicL",
        "outputId": "c3a46676-4df6-4f83-ffab-45b24e174357"
      },
      "outputs": [
        {
          "data": {
            "text/plain": [
              "[27.021955338712697, 26.296566837107374]"
            ]
          },
          "execution_count": 104,
          "metadata": {},
          "output_type": "execute_result"
        }
      ],
      "source": [
        "# to find multiple mode in numpy array\n",
        "# Note: This step works fine in Jupyter Notebbok\n",
        "st.multimode(bmi)"
      ]
    },
    {
      "cell_type": "code",
      "execution_count": null,
      "metadata": {
        "colab": {
          "base_uri": "https://localhost:8080/"
        },
        "id": "IAD7bykTj4nt",
        "outputId": "753f733a-0665-43e1-fbf9-3dd1896db987"
      },
      "outputs": [
        {
          "output_type": "execute_result",
          "data": {
            "text/plain": [
              "2.339692272343603"
            ]
          },
          "metadata": {},
          "execution_count": 57
        }
      ],
      "source": [
        "#Find the standard deviation of the bmi\n",
        "bmi.std()"
      ]
    },
    {
      "cell_type": "code",
      "execution_count": null,
      "metadata": {
        "colab": {
          "base_uri": "https://localhost:8080/"
        },
        "id": "SfJYeFa_j4nu",
        "outputId": "5a0695b2-7e5f-45ac-e522-f9afe6ee0329"
      },
      "outputs": [
        {
          "output_type": "execute_result",
          "data": {
            "text/plain": [
              "5.474159929264373"
            ]
          },
          "metadata": {},
          "execution_count": 58
        }
      ],
      "source": [
        "#Find the variance of the bmi\n",
        "np.var(bmi)"
      ]
    },
    {
      "cell_type": "code",
      "execution_count": null,
      "metadata": {
        "colab": {
          "base_uri": "https://localhost:8080/"
        },
        "id": "83dDKbtZj4nu",
        "outputId": "f998c88e-a67e-4d7e-cf3b-86487ef9d8d7"
      },
      "outputs": [
        {
          "output_type": "execute_result",
          "data": {
            "text/plain": [
              "array(5.47955851)"
            ]
          },
          "metadata": {},
          "execution_count": 59
        }
      ],
      "source": [
        "#Find the covariance of the bmi\n",
        "np.cov(bmi)"
      ]
    },
    {
      "cell_type": "code",
      "execution_count": null,
      "metadata": {
        "colab": {
          "base_uri": "https://localhost:8080/"
        },
        "id": "5Ms4hyrnr2kD",
        "outputId": "9d73617e-10c5-4065-bf7d-3996684c6869"
      },
      "outputs": [
        {
          "output_type": "execute_result",
          "data": {
            "text/plain": [
              "1.0"
            ]
          },
          "metadata": {},
          "execution_count": 60
        }
      ],
      "source": [
        "#Find the correlation of the bmi\n",
        "np.corrcoef(bmi)"
      ]
    },
    {
      "cell_type": "markdown",
      "metadata": {
        "id": "ho__jHNtj4of"
      },
      "source": [
        "# Aggregation of array elements"
      ]
    },
    {
      "cell_type": "code",
      "execution_count": null,
      "metadata": {
        "colab": {
          "base_uri": "https://localhost:8080/"
        },
        "id": "bUxQ9XiuhvHL",
        "outputId": "551df342-5e27-4a5c-c189-f254ac507473"
      },
      "outputs": [
        {
          "output_type": "execute_result",
          "data": {
            "text/plain": [
              "86"
            ]
          },
          "metadata": {},
          "execution_count": 61
        }
      ],
      "source": [
        "x=np.array([1,2,3,4,70,6])\n",
        "x.sum()"
      ]
    },
    {
      "cell_type": "code",
      "execution_count": null,
      "metadata": {
        "colab": {
          "base_uri": "https://localhost:8080/"
        },
        "id": "pUDXV_Yw9nLy",
        "outputId": "7b33bdb4-faa4-40f1-ddaa-1c14078d1d2e"
      },
      "outputs": [
        {
          "data": {
            "text/plain": [
              "array([ 1,  2,  3,  4, 70,  6])"
            ]
          },
          "execution_count": 137,
          "metadata": {},
          "output_type": "execute_result"
        }
      ],
      "source": [
        "x"
      ]
    },
    {
      "cell_type": "code",
      "execution_count": null,
      "metadata": {
        "colab": {
          "base_uri": "https://localhost:8080/"
        },
        "id": "NSVm9773iBEJ",
        "outputId": "93c55626-26a0-43d1-b267-ce3cfdc522bf"
      },
      "outputs": [
        {
          "data": {
            "text/plain": [
              "array([ 1,  3,  6, 10, 80, 86])"
            ]
          },
          "execution_count": 136,
          "metadata": {},
          "output_type": "execute_result"
        }
      ],
      "source": [
        "np.cumsum(x)"
      ]
    },
    {
      "cell_type": "markdown",
      "metadata": {
        "id": "f3YF5Pmyj4nv"
      },
      "source": [
        "# Practice Exercise 1"
      ]
    },
    {
      "cell_type": "markdown",
      "metadata": {
        "id": "U2hlXcfSj4nv"
      },
      "source": [
        "You are provided with 2 lists that contain the data of an ecommerce website. The first list contains the data for the number of items sold for a particular product and the second list contains the price of the product sold. As a part of this exercise, solve the questions that are provided below."
      ]
    },
    {
      "cell_type": "code",
      "execution_count": null,
      "metadata": {
        "id": "0nUnwhOIj4nv"
      },
      "outputs": [],
      "source": [
        "number = [8, 9, 9, 1, 6, 9, 5, 7, 3, 9, 7, 3, 4, 8, 3, 5, 8, 4, 8, 7, 5, 7, 3, 6, 1, 2, 7, 4, 7, 7, 8, 4, 3, 4, 2, 2, 2, 7, 3, 5, 6, 1, 1, 3, 2, 1, 1, 7, 7, 1, 4, 4, 5, 6, 1, 2, 7, 4, 5, 8, 1, 4, 8, 6, 2, 4, 3, 7, 3, 6, 2, 3, 3, 3, 2, 4, 6, 8, 9, 3, 9, 3, 1, 8, 6, 6, 3, 3, 9, 4, 6, 4, 9, 6, 7, 1, 2, 8, 7, 8, 1, 4]\n",
        "price = [195, 225, 150, 150, 90, 60, 75, 255, 270, 225, 135, 195, 30, 15, 210, 105, 15, 30, 180, 60, 165, 60, 45, 225, 180, 90, 30, 210, 150, 15, 270, 60, 210, 180, 60, 225, 150, 150, 120, 195, 75, 240, 60, 45, 30, 180, 240, 285, 135, 165, 180, 240, 60, 105, 165, 240, 120, 45, 120, 165, 285, 225, 90, 105, 225, 45, 45, 45, 75, 180, 90, 240, 30, 30, 60, 135, 180, 15, 255, 180, 270, 135, 105, 135, 210, 180, 135, 195, 225, 75, 225, 15, 240, 60, 15, 180, 255, 90, 15, 150, 230, 150]"
      ]
    },
    {
      "cell_type": "code",
      "execution_count": null,
      "metadata": {
        "id": "4SO87SCP-Qu4"
      },
      "outputs": [],
      "source": [
        "# P1 - 8 units sold at 195 Rs.\n",
        "# P2 - 9 units sold at 225 RS"
      ]
    },
    {
      "cell_type": "code",
      "execution_count": null,
      "metadata": {
        "id": "vnvhNoc1-mgz"
      },
      "outputs": [],
      "source": [
        "number = np.array(number)\n",
        "price = np.array(price)"
      ]
    },
    {
      "cell_type": "markdown",
      "metadata": {
        "id": "lDrbuX4kj4nw"
      },
      "source": [
        "**How many different products are sold by the company in total?**\n",
        "\n",
        "-  99\n",
        "-  100\n",
        "-  101\n",
        "-  102\n"
      ]
    },
    {
      "cell_type": "code",
      "execution_count": null,
      "metadata": {
        "colab": {
          "base_uri": "https://localhost:8080/"
        },
        "id": "YzLc7L-yj4nw",
        "outputId": "d67a6ebc-6d59-4f2d-be31-ca175ef0520f"
      },
      "outputs": [
        {
          "output_type": "execute_result",
          "data": {
            "text/plain": [
              "102"
            ]
          },
          "metadata": {},
          "execution_count": 67
        }
      ],
      "source": [
        "# Type your code here\n",
        "number.size"
      ]
    },
    {
      "cell_type": "markdown",
      "metadata": {
        "id": "w-NPNo8jj4nw"
      },
      "source": [
        "**How many items were sold in total?**\n",
        "\n",
        "-  460\n",
        "-  490\n",
        "-  500\n",
        "-  520\n"
      ]
    },
    {
      "cell_type": "code",
      "execution_count": null,
      "metadata": {
        "colab": {
          "base_uri": "https://localhost:8080/"
        },
        "id": "xGNKIT3yj4nx",
        "outputId": "beb3bb14-b9f8-4d73-a676-2170c869a460"
      },
      "outputs": [
        {
          "output_type": "execute_result",
          "data": {
            "text/plain": [
              "490"
            ]
          },
          "metadata": {},
          "execution_count": 68
        }
      ],
      "source": [
        "# Type your code here\n",
        "number.sum()"
      ]
    },
    {
      "cell_type": "markdown",
      "metadata": {
        "id": "Koyc0OdUj4ny"
      },
      "source": [
        "**What is the average price of the products sold by the ecommerce company?**\n",
        "\n",
        "-  139\n",
        "-  151\n",
        "-  142\n",
        "-  128"
      ]
    },
    {
      "cell_type": "code",
      "execution_count": null,
      "metadata": {
        "colab": {
          "base_uri": "https://localhost:8080/"
        },
        "id": "beyuoq3Zj4ny",
        "outputId": "c1073c66-cad1-488b-d011-bac7febdfe80"
      },
      "outputs": [
        {
          "output_type": "execute_result",
          "data": {
            "text/plain": [
              "139.01960784313727"
            ]
          },
          "metadata": {},
          "execution_count": 71
        }
      ],
      "source": [
        "# Type your code here\n",
        "price.mean()"
      ]
    },
    {
      "cell_type": "markdown",
      "metadata": {
        "id": "ZyrHU3Npj4nz"
      },
      "source": [
        "**What is the price of the costliest item sold?**\n",
        "\n",
        "-  225\n",
        "-  310\n",
        "-  280\n",
        "-  285"
      ]
    },
    {
      "cell_type": "code",
      "execution_count": null,
      "metadata": {
        "colab": {
          "base_uri": "https://localhost:8080/"
        },
        "id": "inzfMuD_j4nz",
        "outputId": "474989d5-d2a8-4cfa-8671-45b2c4e19965"
      },
      "outputs": [
        {
          "output_type": "execute_result",
          "data": {
            "text/plain": [
              "285"
            ]
          },
          "metadata": {},
          "execution_count": 72
        }
      ],
      "source": [
        "# Type your code here\n",
        "price.max()"
      ]
    },
    {
      "cell_type": "markdown",
      "metadata": {
        "id": "PBCgENqLj4n0"
      },
      "source": [
        "**What is the total revenue of the company? [Revenue = Price\\*Quantity]**\n",
        "\n",
        "-  67100\n",
        "-  53900\n",
        "-  45300\n",
        "-  71200"
      ]
    },
    {
      "cell_type": "code",
      "execution_count": null,
      "metadata": {
        "colab": {
          "base_uri": "https://localhost:8080/"
        },
        "id": "D6d6wopRj4n0",
        "outputId": "c61011f6-0bd4-47f1-c35f-fe7e2f5fc35e"
      },
      "outputs": [
        {
          "output_type": "execute_result",
          "data": {
            "text/plain": [
              "67100"
            ]
          },
          "metadata": {},
          "execution_count": 75
        }
      ],
      "source": [
        "# Type your code here\n",
        "revenue = price * number\n",
        "revenue.sum()"
      ]
    },
    {
      "cell_type": "markdown",
      "metadata": {
        "collapsed": true,
        "id": "5xwZq6yEj4n1"
      },
      "source": [
        "**Demand for the 20th product in the list is more than the 50th product. [True/False]**\n",
        "-  True\n",
        "-  False\n",
        "-  Can't be calculated"
      ]
    },
    {
      "cell_type": "code",
      "execution_count": null,
      "metadata": {
        "colab": {
          "base_uri": "https://localhost:8080/"
        },
        "id": "QF0QA4D-j4n1",
        "outputId": "315f0f45-c967-4d8a-cbdb-e79a51a840a8"
      },
      "outputs": [
        {
          "output_type": "execute_result",
          "data": {
            "text/plain": [
              "True"
            ]
          },
          "metadata": {},
          "execution_count": 80
        }
      ],
      "source": [
        "# Type your code here\n",
        "number[19] > number[49]"
      ]
    },
    {
      "cell_type": "markdown",
      "metadata": {
        "id": "g_LpVj1aj4n2"
      },
      "source": [
        "**How many products fall under the category of expensive goods?\n",
        "An expensive good is that good whose price is more than the average price of the products sold by the company.**\n",
        "\n",
        "-  48\n",
        "-  50\n",
        "-  52\n",
        "-  54"
      ]
    },
    {
      "cell_type": "code",
      "execution_count": null,
      "metadata": {
        "colab": {
          "base_uri": "https://localhost:8080/"
        },
        "id": "xHTvDjwfj4n3",
        "outputId": "de8bf9bb-4bec-4332-a8cf-3d3afa0ac588"
      },
      "outputs": [
        {
          "output_type": "execute_result",
          "data": {
            "text/plain": [
              "52"
            ]
          },
          "metadata": {},
          "execution_count": 86
        }
      ],
      "source": [
        "# Type your code here\n",
        "avg_price = price.mean()\n",
        "price[price > avg_price].size"
      ]
    },
    {
      "cell_type": "markdown",
      "metadata": {
        "id": "uWtfRjiKj4pE"
      },
      "source": [
        "# Linear Algebra\n",
        "\n",
        "    7x + 5y - 3z = 16\n",
        "    3x - 5y + 2z = -8\n",
        "    5x + 3y - 7z = 0"
      ]
    },
    {
      "cell_type": "code",
      "execution_count": null,
      "metadata": {
        "id": "8rh7wqdxj4pE"
      },
      "outputs": [],
      "source": [
        "import numpy as np"
      ]
    },
    {
      "cell_type": "code",
      "execution_count": null,
      "metadata": {
        "colab": {
          "base_uri": "https://localhost:8080/"
        },
        "id": "Lty7UB3Oj4pE",
        "outputId": "9c2eaf7d-1c56-4fcd-e278-e87106dece86"
      },
      "outputs": [
        {
          "output_type": "execute_result",
          "data": {
            "text/plain": [
              "array([1., 3., 2.])"
            ]
          },
          "metadata": {},
          "execution_count": 87
        }
      ],
      "source": [
        "# to get the solution of the equation use np.linalg.solve()\n",
        "\n",
        "a = np.array([ [7,5,-3],[3,-5,2],[5,3,-7] ])\n",
        "b = np.array([16,-8,0])\n",
        "\n",
        "np.linalg.solve(a,b)"
      ]
    },
    {
      "cell_type": "code",
      "execution_count": null,
      "metadata": {
        "colab": {
          "base_uri": "https://localhost:8080/"
        },
        "id": "OIejdPQaj4pJ",
        "outputId": "4281f3bb-fa43-4efe-f7e0-b7e4f41d684f"
      },
      "outputs": [
        {
          "output_type": "stream",
          "name": "stdout",
          "text": [
            "[[ 7  5 -3]\n",
            " [ 3 -5  2]\n",
            " [ 5  3 -7]]\n",
            "[[ 0.11328125  0.1015625  -0.01953125]\n",
            " [ 0.12109375 -0.1328125  -0.08984375]\n",
            " [ 0.1328125   0.015625   -0.1953125 ]]\n"
          ]
        }
      ],
      "source": [
        "# to get the inverse of the matrix use np.linalg.inv()\n",
        "a = np.array([ [7,5,-3],[3,-5,2],[5,3,-7] ])\n",
        "print(a)\n",
        "\n",
        "# np.linalg.inv(a)\n",
        "# 1D array - vectors\n",
        "# 2D array - metrices\n",
        "# >= 3D - tensors\n",
        "# A * B = I\n",
        "\n",
        "b = np.linalg.inv(a)\n",
        "print(b)"
      ]
    },
    {
      "cell_type": "code",
      "execution_count": null,
      "metadata": {
        "id": "rZQURMSSI5YQ"
      },
      "outputs": [],
      "source": [
        "# 1 0 0\n",
        "# 0 1 0\n",
        "# 0 0 1"
      ]
    },
    {
      "cell_type": "code",
      "execution_count": null,
      "metadata": {
        "colab": {
          "base_uri": "https://localhost:8080/"
        },
        "id": "zqbfSjjqIdCm",
        "outputId": "44f6c734-7448-4223-e30a-9adc812d5eb6"
      },
      "outputs": [
        {
          "data": {
            "text/plain": [
              "array([[ 1., -0.,  0.],\n",
              "       [ 0.,  1.,  0.],\n",
              "       [ 0.,  0.,  1.]])"
            ]
          },
          "execution_count": 172,
          "metadata": {},
          "output_type": "execute_result"
        }
      ],
      "source": [
        "np.round(np.dot(a,b))"
      ]
    },
    {
      "cell_type": "code",
      "execution_count": null,
      "metadata": {
        "colab": {
          "base_uri": "https://localhost:8080/"
        },
        "id": "ZbiPF1Lmj4pJ",
        "outputId": "914453dc-162e-4bb3-dfd7-c7fe570e71a6"
      },
      "outputs": [
        {
          "data": {
            "text/plain": [
              "array([[ 0.11,  0.1 , -0.02],\n",
              "       [ 0.12, -0.13, -0.09],\n",
              "       [ 0.13,  0.02, -0.2 ]])"
            ]
          },
          "execution_count": 68,
          "metadata": {},
          "output_type": "execute_result"
        }
      ],
      "source": [
        "np.round(np.linalg.inv(a),2)"
      ]
    },
    {
      "cell_type": "code",
      "execution_count": null,
      "metadata": {
        "colab": {
          "base_uri": "https://localhost:8080/"
        },
        "id": "bdRjbE5Cj4pK",
        "outputId": "d64c9cf1-0ef0-4fb8-9c02-dbd75c8fb334"
      },
      "outputs": [
        {
          "name": "stdout",
          "output_type": "stream",
          "text": [
            "[[ 7  5 -3]\n",
            " [ 3 -5  2]\n",
            " [ 5  3 -7]]\n"
          ]
        },
        {
          "data": {
            "text/plain": [
              "255.99999999999994"
            ]
          },
          "execution_count": 69,
          "metadata": {},
          "output_type": "execute_result"
        }
      ],
      "source": [
        "# to get the determinant of the matrix use np.linalg.det()\n",
        "a = np.array([ [7,5,-3],[3,-5,2],[5,3,-7] ])\n",
        "print(a)\n",
        "\n",
        "np.linalg.det(a)"
      ]
    },
    {
      "cell_type": "code",
      "execution_count": null,
      "metadata": {
        "colab": {
          "base_uri": "https://localhost:8080/"
        },
        "id": "76y-4nkpj4pK",
        "outputId": "64225eef-d8a9-4fbe-c5bd-2e98131f2ab2"
      },
      "outputs": [
        {
          "data": {
            "text/plain": [
              "256.0"
            ]
          },
          "execution_count": 70,
          "metadata": {},
          "output_type": "execute_result"
        }
      ],
      "source": [
        "np.round(np.linalg.det(a),2)"
      ]
    },
    {
      "cell_type": "code",
      "source": [
        "# A - m1 x n1   # B - m2 x n2\n",
        "\n",
        "# => n1 = m2\n",
        "# A * B   possible\n",
        "\n",
        "# m1 x n2 => shape of the resultant matrix"
      ],
      "metadata": {
        "id": "5_PNQr3QWoFc"
      },
      "execution_count": null,
      "outputs": []
    },
    {
      "cell_type": "code",
      "source": [],
      "metadata": {
        "id": "whkus4fKWn-q"
      },
      "execution_count": null,
      "outputs": []
    },
    {
      "cell_type": "code",
      "execution_count": null,
      "metadata": {
        "id": "XEMtUrr6j4pK"
      },
      "outputs": [],
      "source": [
        "import numpy as np\n",
        "A = np.array([[1, 1],\n",
        "              [0, 1]])\n",
        "\n",
        "B = np.array([[2, 0],\n",
        "              [3, 4]])"
      ]
    },
    {
      "cell_type": "code",
      "execution_count": null,
      "metadata": {
        "colab": {
          "base_uri": "https://localhost:8080/"
        },
        "id": "o6LaHchUj4pK",
        "outputId": "1b5b0104-5671-46d4-f1f6-32097ca8a8b9",
        "scrolled": true
      },
      "outputs": [
        {
          "output_type": "execute_result",
          "data": {
            "text/plain": [
              "array([[2, 0],\n",
              "       [0, 4]])"
            ]
          },
          "metadata": {},
          "execution_count": 91
        }
      ],
      "source": [
        "A * B     # elementwise product"
      ]
    },
    {
      "cell_type": "code",
      "execution_count": null,
      "metadata": {
        "colab": {
          "base_uri": "https://localhost:8080/"
        },
        "id": "E-XBqZ9Sj4pM",
        "outputId": "5880e999-8b1c-4882-f95e-3bcd3757df1f"
      },
      "outputs": [
        {
          "data": {
            "text/plain": [
              "array([[5, 4],\n",
              "       [3, 4]])"
            ]
          },
          "execution_count": 5,
          "metadata": {},
          "output_type": "execute_result"
        }
      ],
      "source": [
        "A @ B     # matrix product or dot product"
      ]
    },
    {
      "cell_type": "code",
      "execution_count": null,
      "metadata": {
        "colab": {
          "base_uri": "https://localhost:8080/"
        },
        "id": "mJLfoywNj4pM",
        "outputId": "2edb503b-b576-4403-bcaa-50a2d661d33b"
      },
      "outputs": [
        {
          "data": {
            "text/plain": [
              "array([[5, 4],\n",
              "       [3, 4]])"
            ]
          },
          "execution_count": 6,
          "metadata": {},
          "output_type": "execute_result"
        }
      ],
      "source": [
        "A.dot(B)  # another matrix product"
      ]
    },
    {
      "cell_type": "code",
      "execution_count": null,
      "metadata": {
        "colab": {
          "base_uri": "https://localhost:8080/"
        },
        "id": "-5iZPtLwKRhT",
        "outputId": "104626a8-ba5c-4691-9e6f-bce2f083f4da"
      },
      "outputs": [
        {
          "data": {
            "text/plain": [
              "array([[5, 4],\n",
              "       [3, 4]])"
            ]
          },
          "execution_count": 176,
          "metadata": {},
          "output_type": "execute_result"
        }
      ],
      "source": [
        "np.dot(A,B)"
      ]
    },
    {
      "cell_type": "code",
      "execution_count": null,
      "metadata": {
        "colab": {
          "base_uri": "https://localhost:8080/"
        },
        "id": "aYeh834O1rcw",
        "outputId": "dae8e476-e6e2-4f08-907e-891a99b50469"
      },
      "outputs": [
        {
          "data": {
            "text/plain": [
              "array([0, 1, 2, 3, 4, 5, 6, 7, 8, 9])"
            ]
          },
          "execution_count": 124,
          "metadata": {},
          "output_type": "execute_result"
        }
      ],
      "source": [
        "# np.array()\n",
        "np.arange(10)"
      ]
    },
    {
      "cell_type": "markdown",
      "metadata": {
        "id": "iYHmkk_Jj4oL"
      },
      "source": [
        "# Creating Special NumPy Arrays\n",
        "\n",
        "There are multiple ways to create numpy arrays, the most commmon ones being:\n",
        "* Convert lists or tuples to arrays using ```np.array()```\n",
        "* Initialise arrays of fixed size (when the size is known)"
      ]
    },
    {
      "cell_type": "markdown",
      "metadata": {
        "id": "m9xeUZw2j4oL"
      },
      "source": [
        "The following ways are commonly used:\n",
        "* ```np.arange()```: Create array with increments of a fixed step size\n",
        "* ```np.ones()```: Create array of 1s\n",
        "* ```np.zeros()```: Create array of 0s\n",
        "* ```np.linspace()```: Create array of fixed length\n",
        "-  `np.full()`: Create a constant array of any number ‘n’\n",
        "-  `np.tile()`: Create a new array by repeating an existing array for a particular number of times\n",
        "-  `np.eye()`: Create an identity matrix of any dimension\n",
        "* ```np.random.random()```: Create array of random numbers between 0 and 1\n",
        "-  `np.random.randint()`: Create a random array of integers within a particular range"
      ]
    },
    {
      "cell_type": "code",
      "execution_count": null,
      "metadata": {
        "colab": {
          "base_uri": "https://localhost:8080/"
        },
        "id": "Ck42WPap29EB",
        "outputId": "17c91920-4e8d-4168-f094-51da4801411a"
      },
      "outputs": [
        {
          "output_type": "execute_result",
          "data": {
            "text/plain": [
              "array([ 3,  6,  9, 12, 15, 18, 21, 24, 27, 30])"
            ]
          },
          "metadata": {},
          "execution_count": 94
        }
      ],
      "source": [
        "# create a numpy array of first 10 multiples of 3 - =>\n",
        "#  3, 6, ...30\n",
        "np.arange(3,31,3)"
      ]
    },
    {
      "cell_type": "code",
      "execution_count": null,
      "metadata": {
        "colab": {
          "base_uri": "https://localhost:8080/"
        },
        "id": "0plnxmjO3E4X",
        "outputId": "9f5c5f15-fab6-413a-edcb-71503a9f769c"
      },
      "outputs": [
        {
          "output_type": "execute_result",
          "data": {
            "text/plain": [
              "array([1., 1., 1., 1., 1.])"
            ]
          },
          "metadata": {},
          "execution_count": 96
        }
      ],
      "source": [
        "#np.ones()\n",
        "# 1d array\n",
        "np.ones(5)"
      ]
    },
    {
      "cell_type": "code",
      "source": [
        "np.ones(5, dtype = int)"
      ],
      "metadata": {
        "colab": {
          "base_uri": "https://localhost:8080/"
        },
        "id": "zszcTlMGckrI",
        "outputId": "83c89fe4-068a-484a-b7e8-8214badd1b9d"
      },
      "execution_count": null,
      "outputs": [
        {
          "output_type": "execute_result",
          "data": {
            "text/plain": [
              "array([1, 1, 1, 1, 1])"
            ]
          },
          "metadata": {},
          "execution_count": 97
        }
      ]
    },
    {
      "cell_type": "code",
      "execution_count": null,
      "metadata": {
        "colab": {
          "base_uri": "https://localhost:8080/"
        },
        "id": "MYbGgXVhMT0o",
        "outputId": "026f7d7f-cdb2-4ab8-def8-39428cfcf962"
      },
      "outputs": [
        {
          "output_type": "execute_result",
          "data": {
            "text/plain": [
              "array([[1, 1, 1, 1],\n",
              "       [1, 1, 1, 1],\n",
              "       [1, 1, 1, 1]])"
            ]
          },
          "metadata": {},
          "execution_count": 100
        }
      ],
      "source": [
        "# 2d array of all 1's\n",
        "\n",
        "np.ones((3,4), dtype = int)"
      ]
    },
    {
      "cell_type": "code",
      "execution_count": null,
      "metadata": {
        "colab": {
          "base_uri": "https://localhost:8080/"
        },
        "id": "AnDc_NnH3NG2",
        "outputId": "b5b424e0-5c7e-4ce6-e777-cc3a41015c7f"
      },
      "outputs": [
        {
          "output_type": "execute_result",
          "data": {
            "text/plain": [
              "array([0, 0, 0, 0])"
            ]
          },
          "metadata": {},
          "execution_count": 103
        }
      ],
      "source": [
        "# 1d array\n",
        "np.zeros(4, dtype = int)"
      ]
    },
    {
      "cell_type": "code",
      "execution_count": null,
      "metadata": {
        "colab": {
          "base_uri": "https://localhost:8080/"
        },
        "id": "kQh_yaE53h91",
        "outputId": "8377d67c-5002-4139-8716-c7f917b6152b"
      },
      "outputs": [
        {
          "output_type": "execute_result",
          "data": {
            "text/plain": [
              "array([[0., 0., 0.],\n",
              "       [0., 0., 0.],\n",
              "       [0., 0., 0.],\n",
              "       [0., 0., 0.]])"
            ]
          },
          "metadata": {},
          "execution_count": 104
        }
      ],
      "source": [
        "# 2d array\n",
        "np.zeros((4,3))"
      ]
    },
    {
      "cell_type": "code",
      "execution_count": null,
      "metadata": {
        "colab": {
          "base_uri": "https://localhost:8080/"
        },
        "id": "l88fiSb63nP2",
        "outputId": "e76c7be0-c314-4b4c-e6ba-3eef50f86a2f"
      },
      "outputs": [
        {
          "data": {
            "text/plain": [
              "array([[0, 0, 0],\n",
              "       [0, 0, 0],\n",
              "       [0, 0, 0]])"
            ]
          },
          "execution_count": 187,
          "metadata": {},
          "output_type": "execute_result"
        }
      ],
      "source": [
        "np.zeros((3,3), dtype = int)"
      ]
    },
    {
      "cell_type": "code",
      "source": [
        "# 10 10\n",
        "# 10 10\n",
        "# 10 10\n",
        "\n",
        "np.ones((3,2), dtype = int) * 10"
      ],
      "metadata": {
        "colab": {
          "base_uri": "https://localhost:8080/"
        },
        "id": "lzA0b5O1dccB",
        "outputId": "43685f7a-c6e9-4365-e165-256dfabe411c"
      },
      "execution_count": null,
      "outputs": [
        {
          "output_type": "execute_result",
          "data": {
            "text/plain": [
              "array([[10, 10],\n",
              "       [10, 10],\n",
              "       [10, 10]])"
            ]
          },
          "metadata": {},
          "execution_count": 107
        }
      ]
    },
    {
      "cell_type": "code",
      "source": [
        "np.zeros((3,2), dtype = int) + 10"
      ],
      "metadata": {
        "colab": {
          "base_uri": "https://localhost:8080/"
        },
        "id": "a94xddBzdcKN",
        "outputId": "38ca7767-e0d5-428d-89e1-7772e70ac272"
      },
      "execution_count": null,
      "outputs": [
        {
          "output_type": "execute_result",
          "data": {
            "text/plain": [
              "array([[10, 10],\n",
              "       [10, 10],\n",
              "       [10, 10]])"
            ]
          },
          "metadata": {},
          "execution_count": 109
        }
      ]
    },
    {
      "cell_type": "code",
      "source": [
        "# np.full(shape, element)\n",
        "np.full((3,2), 10)"
      ],
      "metadata": {
        "colab": {
          "base_uri": "https://localhost:8080/"
        },
        "id": "oTh11-OJeGby",
        "outputId": "10ec826a-8111-4cfa-b4b9-0f06ba9902d9"
      },
      "execution_count": null,
      "outputs": [
        {
          "output_type": "execute_result",
          "data": {
            "text/plain": [
              "array([[10, 10],\n",
              "       [10, 10],\n",
              "       [10, 10]])"
            ]
          },
          "metadata": {},
          "execution_count": 110
        }
      ]
    },
    {
      "cell_type": "code",
      "execution_count": null,
      "metadata": {
        "colab": {
          "base_uri": "https://localhost:8080/"
        },
        "id": "B9trczWR3w9O",
        "outputId": "e1390be8-86a1-4445-aac6-dd2a82f3da60"
      },
      "outputs": [
        {
          "data": {
            "text/plain": [
              "array([10, 10, 10, 10])"
            ]
          },
          "execution_count": 189,
          "metadata": {},
          "output_type": "execute_result"
        }
      ],
      "source": [
        "# np.full(size, element)\n",
        "# 10 10 10 10\n",
        "np.full(4, 10)"
      ]
    },
    {
      "cell_type": "code",
      "execution_count": null,
      "metadata": {
        "colab": {
          "base_uri": "https://localhost:8080/"
        },
        "id": "bZ6d6P-A3-Sr",
        "outputId": "1a03245d-e4c1-4101-b8bf-cbc40e4ee523"
      },
      "outputs": [
        {
          "output_type": "execute_result",
          "data": {
            "text/plain": [
              "array([[4, 4, 4],\n",
              "       [4, 4, 4]])"
            ]
          },
          "metadata": {},
          "execution_count": 111
        }
      ],
      "source": [
        "# 4 4 4\n",
        "# 4 4 4\n",
        "\n",
        "np.full((2,3), 4)"
      ]
    },
    {
      "cell_type": "code",
      "execution_count": null,
      "metadata": {
        "colab": {
          "base_uri": "https://localhost:8080/"
        },
        "id": "VtyaWm1-4W10",
        "outputId": "52923232-3e1d-4a39-b267-8d4da39fced3"
      },
      "outputs": [
        {
          "data": {
            "text/plain": [
              "array([[20., 20., 20.],\n",
              "       [20., 20., 20.],\n",
              "       [20., 20., 20.]])"
            ]
          },
          "execution_count": 201,
          "metadata": {},
          "output_type": "execute_result"
        }
      ],
      "source": [
        "# 20 20 20\n",
        "# 20 20 20\n",
        "# 20 20 20\n",
        "\n",
        "# print(np.full((3,3), 20))\n",
        "\n",
        "# np.ones((3,3), dtype = int)*20\n",
        "\n",
        "# np.zeros((3,3)) + 20"
      ]
    },
    {
      "cell_type": "code",
      "source": [
        "[1,2,3]*3"
      ],
      "metadata": {
        "colab": {
          "base_uri": "https://localhost:8080/"
        },
        "id": "lLPwYEf5eohB",
        "outputId": "46b201ab-a76a-483b-f2d9-53f5f70c06d3"
      },
      "execution_count": null,
      "outputs": [
        {
          "output_type": "execute_result",
          "data": {
            "text/plain": [
              "[1, 2, 3, 1, 2, 3, 1, 2, 3]"
            ]
          },
          "metadata": {},
          "execution_count": 112
        }
      ]
    },
    {
      "cell_type": "code",
      "execution_count": null,
      "metadata": {
        "colab": {
          "base_uri": "https://localhost:8080/"
        },
        "id": "e6s0K5m94a0c",
        "outputId": "a2efa944-ac98-466e-8b72-90bb3cf023ab"
      },
      "outputs": [
        {
          "output_type": "execute_result",
          "data": {
            "text/plain": [
              "array([1, 2, 3, 1, 2, 3, 1, 2, 3])"
            ]
          },
          "metadata": {},
          "execution_count": 113
        }
      ],
      "source": [
        "arr = np.array([1,2,3])\n",
        "np.tile(arr, 3)"
      ]
    },
    {
      "cell_type": "code",
      "execution_count": null,
      "metadata": {
        "colab": {
          "base_uri": "https://localhost:8080/"
        },
        "id": "NCUEZudn5Kae",
        "outputId": "bb48f49d-3ddd-4120-89ba-46e321f11266"
      },
      "outputs": [
        {
          "output_type": "execute_result",
          "data": {
            "text/plain": [
              "array([[1, 0, 0],\n",
              "       [0, 1, 0],\n",
              "       [0, 0, 1]])"
            ]
          },
          "metadata": {},
          "execution_count": 116
        }
      ],
      "source": [
        "# np.eye()  - identity matrix of specified shape\n",
        "np.eye(3, dtype = int)"
      ]
    },
    {
      "cell_type": "code",
      "execution_count": null,
      "metadata": {
        "id": "vZDVXDxe5f2A"
      },
      "outputs": [],
      "source": []
    },
    {
      "cell_type": "code",
      "execution_count": null,
      "metadata": {
        "colab": {
          "base_uri": "https://localhost:8080/"
        },
        "id": "hMDcnHOv18MA",
        "outputId": "a39153b8-9eaa-4c52-96f9-c83de58eb306"
      },
      "outputs": [
        {
          "data": {
            "text/plain": [
              "array([ 7, 14, 21, 28, 35, 42, 49, 56, 63, 70])"
            ]
          },
          "execution_count": 125,
          "metadata": {},
          "output_type": "execute_result"
        }
      ],
      "source": [
        "# numpy array with first 10 miltiple of 7\n",
        "np.arange(7,71,7)"
      ]
    },
    {
      "cell_type": "code",
      "execution_count": null,
      "metadata": {
        "colab": {
          "base_uri": "https://localhost:8080/"
        },
        "id": "JucS-AfA2qSA",
        "outputId": "0805fda3-5467-429b-886b-2bcd14b62b02"
      },
      "outputs": [
        {
          "data": {
            "text/plain": [
              "array([ 7, 14, 21, 28, 35, 42, 49, 56, 63, 70])"
            ]
          },
          "execution_count": 126,
          "metadata": {},
          "output_type": "execute_result"
        }
      ],
      "source": [
        "np.arange(1,11)*7"
      ]
    },
    {
      "cell_type": "code",
      "execution_count": null,
      "metadata": {
        "colab": {
          "base_uri": "https://localhost:8080/"
        },
        "id": "ljGpTw5JrVtB",
        "outputId": "f67e229d-7d0d-47aa-c702-a1f3c938b1d2"
      },
      "outputs": [
        {
          "output_type": "execute_result",
          "data": {
            "text/plain": [
              "array([14, 15, 12, 18, 19])"
            ]
          },
          "metadata": {},
          "execution_count": 117
        }
      ],
      "source": [
        "np.random.randint(10, 20, 5)"
      ]
    },
    {
      "cell_type": "code",
      "execution_count": null,
      "metadata": {
        "colab": {
          "base_uri": "https://localhost:8080/"
        },
        "id": "vQc5x6akrIFg",
        "outputId": "3b11d476-e74f-4f14-b65b-7f2296943ce5"
      },
      "outputs": [
        {
          "output_type": "execute_result",
          "data": {
            "text/plain": [
              "array([[90, 93, 96, 93],\n",
              "       [99, 92, 98, 98],\n",
              "       [92, 97, 98, 93]])"
            ]
          },
          "metadata": {},
          "execution_count": 118
        }
      ],
      "source": [
        "np.random.randint(90, 100, (3,4))"
      ]
    },
    {
      "cell_type": "code",
      "execution_count": null,
      "metadata": {
        "colab": {
          "base_uri": "https://localhost:8080/"
        },
        "id": "ozUCUesvQIzr",
        "outputId": "142c14d2-6b0e-4f59-d161-3e6a3887dcbf"
      },
      "outputs": [
        {
          "data": {
            "text/plain": [
              "array([[0.55908026, 0.96869509, 0.30804807],\n",
              "       [0.29651435, 0.45521501, 0.15361221],\n",
              "       [0.59955883, 0.69121524, 0.76638168]])"
            ]
          },
          "execution_count": 214,
          "metadata": {},
          "output_type": "execute_result"
        }
      ],
      "source": [
        "np.random.random((3,3))"
      ]
    },
    {
      "cell_type": "code",
      "execution_count": null,
      "metadata": {
        "id": "F08cF_qMqIiP"
      },
      "outputs": [],
      "source": [
        "# square matrices"
      ]
    },
    {
      "cell_type": "code",
      "execution_count": null,
      "metadata": {
        "colab": {
          "base_uri": "https://localhost:8080/"
        },
        "id": "Hi72TaQZpzrk",
        "outputId": "5557f3fb-4e65-4a88-daa8-89f2dbceba1f"
      },
      "outputs": [
        {
          "data": {
            "text/plain": [
              "array([[40, 40, 40],\n",
              "       [40, 40, 40],\n",
              "       [40, 40, 40]])"
            ]
          },
          "execution_count": 220,
          "metadata": {},
          "output_type": "execute_result"
        }
      ],
      "source": [
        "np.tile(40, (3,3))"
      ]
    },
    {
      "cell_type": "code",
      "execution_count": null,
      "metadata": {
        "colab": {
          "background_save": true
        },
        "id": "A_iWsndbQ0We",
        "outputId": "f004d2c0-d932-4a1c-ec16-96eeae9ef857"
      },
      "outputs": [
        {
          "data": {
            "text/plain": [
              "array([  1.        ,   3.02040816,   5.04081633,   7.06122449,\n",
              "         9.08163265,  11.10204082,  13.12244898,  15.14285714,\n",
              "        17.16326531,  19.18367347,  21.20408163,  23.2244898 ,\n",
              "        25.24489796,  27.26530612,  29.28571429,  31.30612245,\n",
              "        33.32653061,  35.34693878,  37.36734694,  39.3877551 ,\n",
              "        41.40816327,  43.42857143,  45.44897959,  47.46938776,\n",
              "        49.48979592,  51.51020408,  53.53061224,  55.55102041,\n",
              "        57.57142857,  59.59183673,  61.6122449 ,  63.63265306,\n",
              "        65.65306122,  67.67346939,  69.69387755,  71.71428571,\n",
              "        73.73469388,  75.75510204,  77.7755102 ,  79.79591837,\n",
              "        81.81632653,  83.83673469,  85.85714286,  87.87755102,\n",
              "        89.89795918,  91.91836735,  93.93877551,  95.95918367,\n",
              "        97.97959184, 100.        ])"
            ]
          },
          "execution_count": 215,
          "metadata": {},
          "output_type": "execute_result"
        }
      ],
      "source": [
        "# 1 , 100\n",
        "np.linspace(1,100, 1)"
      ]
    },
    {
      "cell_type": "code",
      "execution_count": null,
      "metadata": {
        "id": "GQqxTm7LQ0NG",
        "colab": {
          "base_uri": "https://localhost:8080/"
        },
        "outputId": "d0bd1825-85f5-413c-af89-56261cb9cd70"
      },
      "outputs": [
        {
          "output_type": "execute_result",
          "data": {
            "text/plain": [
              "array([ 1.  ,  3.25,  5.5 ,  7.75, 10.  ])"
            ]
          },
          "metadata": {},
          "execution_count": 120
        }
      ],
      "source": [
        "# 1 , 10  - create a numpy array of 5 equidistant elements in between 1, 10\n",
        "\n",
        "np.linspace(1, 10, 5)\n"
      ]
    },
    {
      "cell_type": "code",
      "execution_count": null,
      "metadata": {
        "id": "ycMMFjAYj4oM"
      },
      "outputs": [],
      "source": [
        "# importing the NumPy library\n",
        "\n",
        "import numpy as np"
      ]
    },
    {
      "cell_type": "code",
      "execution_count": null,
      "metadata": {
        "colab": {
          "base_uri": "https://localhost:8080/"
        },
        "id": "AKmOR87Rtn1S",
        "outputId": "2ef9e23e-b4e7-49df-ae08-c52d1be4591a"
      },
      "outputs": [
        {
          "data": {
            "text/plain": [
              "array([0, 1, 2, 3])"
            ]
          },
          "execution_count": 77,
          "metadata": {},
          "output_type": "execute_result"
        }
      ],
      "source": [
        "# creating an array with 4 elements and increments of a fixed step size\n",
        "# default step size is one\n",
        "np_1 = np.arange(4)\n",
        "np_1"
      ]
    },
    {
      "cell_type": "code",
      "execution_count": null,
      "metadata": {
        "colab": {
          "base_uri": "https://localhost:8080/"
        },
        "id": "fAlZUrvCj4oM",
        "outputId": "19f4f721-f471-4d83-9065-649b6d16c223"
      },
      "outputs": [
        {
          "name": "stdout",
          "output_type": "stream",
          "text": [
            "[ 2  4  6  8 10]\n"
          ]
        }
      ],
      "source": [
        "# creating an array between 2 and 11 elements and increments of a fixed step size 2\n",
        "# default step size is one\n",
        "np_1 = np.arange(2,11,2)\n",
        "print(np_1)"
      ]
    },
    {
      "cell_type": "code",
      "execution_count": null,
      "metadata": {
        "id": "_9SvK0QOj4oN"
      },
      "outputs": [],
      "source": [
        "# creating an array of zeroes with 5 elements\n"
      ]
    },
    {
      "cell_type": "code",
      "execution_count": null,
      "metadata": {
        "colab": {
          "base_uri": "https://localhost:8080/"
        },
        "id": "qB_D5hSYj4oP",
        "outputId": "3dab2e1e-29d2-4384-fd45-596df981fd63"
      },
      "outputs": [
        {
          "data": {
            "text/plain": [
              "dtype('float64')"
            ]
          },
          "execution_count": 80,
          "metadata": {},
          "output_type": "execute_result"
        }
      ],
      "source": [
        "# data type of np_2\n",
        "np_2.dtype\n",
        "\n",
        "# Default data type will be float"
      ]
    },
    {
      "cell_type": "code",
      "execution_count": null,
      "metadata": {
        "colab": {
          "base_uri": "https://localhost:8080/"
        },
        "id": "2hUQlqyvj4oP",
        "outputId": "3dbc53f8-b52d-470e-c7c2-e7b01b746de7"
      },
      "outputs": [
        {
          "data": {
            "text/plain": [
              "(dtype('int64'), array([0, 0, 0, 0, 0]))"
            ]
          },
          "execution_count": 81,
          "metadata": {},
          "output_type": "execute_result"
        }
      ],
      "source": [
        "# specifying the data type of the array in the provided attribute\n",
        "\n",
        "np_2 = np.zeros(5,dtype=\"int\")\n",
        "np_2.dtype, np_2"
      ]
    },
    {
      "cell_type": "code",
      "execution_count": null,
      "metadata": {
        "colab": {
          "base_uri": "https://localhost:8080/"
        },
        "id": "eT3aWVa9j4oP",
        "outputId": "f6ed12a2-fefb-4506-d9fa-e2337ef582fb"
      },
      "outputs": [
        {
          "data": {
            "text/plain": [
              "array([0, 0, 0, 0, 0])"
            ]
          },
          "execution_count": 82,
          "metadata": {},
          "output_type": "execute_result"
        }
      ],
      "source": [
        "np_2"
      ]
    },
    {
      "cell_type": "code",
      "execution_count": null,
      "metadata": {
        "colab": {
          "base_uri": "https://localhost:8080/"
        },
        "id": "odjM45w3j4oQ",
        "outputId": "baf82232-a826-4442-bd66-97e4498783db"
      },
      "outputs": [
        {
          "name": "stdout",
          "output_type": "stream",
          "text": [
            "[ 2  4  6  8 10]\n"
          ]
        }
      ],
      "source": [
        "# adding the two arrays: np_1 and np_2\n",
        "print(np_1 + np_2)"
      ]
    },
    {
      "cell_type": "code",
      "execution_count": null,
      "metadata": {
        "colab": {
          "base_uri": "https://localhost:8080/"
        },
        "id": "MbUDj2Gzj4oQ",
        "outputId": "1d6988ae-1277-45af-ee3a-ba0d2cee82e3"
      },
      "outputs": [
        {
          "data": {
            "text/plain": [
              "5"
            ]
          },
          "execution_count": 84,
          "metadata": {},
          "output_type": "execute_result"
        }
      ],
      "source": [
        "# check the dimension of the arrays\n",
        "# array np_1\n",
        "np_1.size"
      ]
    },
    {
      "cell_type": "code",
      "execution_count": null,
      "metadata": {
        "colab": {
          "base_uri": "https://localhost:8080/"
        },
        "id": "_fveYKTpj4oR",
        "outputId": "3f9cc0a8-a1be-49ff-e29d-31d5be4f0dec"
      },
      "outputs": [
        {
          "data": {
            "text/plain": [
              "5"
            ]
          },
          "execution_count": 85,
          "metadata": {},
          "output_type": "execute_result"
        }
      ],
      "source": [
        "# check the dimension of the arrays\n",
        "# array np_2\n",
        "np_2.size"
      ]
    },
    {
      "cell_type": "code",
      "execution_count": null,
      "metadata": {
        "id": "c0Xq2KVnj4oR"
      },
      "outputs": [],
      "source": [
        "# creating a third array with all the 5 elements as ones\n"
      ]
    },
    {
      "cell_type": "code",
      "execution_count": null,
      "metadata": {
        "id": "726cH5nij4oS"
      },
      "outputs": [],
      "source": [
        "# check the dimension of the arrays\n"
      ]
    },
    {
      "cell_type": "code",
      "execution_count": null,
      "metadata": {
        "colab": {
          "base_uri": "https://localhost:8080/"
        },
        "id": "uTpqJ0hoj4oT",
        "outputId": "85ce6904-c967-45a9-9c20-44d3393a6be9"
      },
      "outputs": [
        {
          "name": "stdout",
          "output_type": "stream",
          "text": [
            "[1 1 1 1 1]\n"
          ]
        }
      ],
      "source": [
        "# creating a third array with all the 5 elements as ones\n",
        "\n",
        "np_4 = np.ones(5,dtype=int)\n",
        "\n",
        "# checking the created array:np_3\n",
        "print(np_4)"
      ]
    },
    {
      "cell_type": "code",
      "execution_count": null,
      "metadata": {
        "colab": {
          "base_uri": "https://localhost:8080/"
        },
        "id": "AIOIxVMNj4oT",
        "outputId": "ccd52ee8-3a6e-495e-f283-14810431d305"
      },
      "outputs": [
        {
          "name": "stdout",
          "output_type": "stream",
          "text": [
            "[-1. -1. -1. -1. -1.]\n"
          ]
        }
      ],
      "source": [
        "# subtracting the array np_3 from array np_2\n",
        "\n",
        "print(np_2 - np_3)"
      ]
    },
    {
      "cell_type": "markdown",
      "metadata": {
        "id": "nUlESoeyvJAb"
      },
      "source": [
        " **np.linespace()**\n",
        "\n",
        "![](https://i.imgur.com/SbJ7owv.jpg)"
      ]
    },
    {
      "cell_type": "code",
      "execution_count": null,
      "metadata": {
        "colab": {
          "base_uri": "https://localhost:8080/"
        },
        "id": "A9mYnAklop4u",
        "outputId": "c0194655-a427-4b9c-afdc-d3e24a1d7637"
      },
      "outputs": [
        {
          "data": {
            "text/plain": [
              "array([ 1.,  4.,  7., 10.])"
            ]
          },
          "execution_count": 2,
          "metadata": {},
          "output_type": "execute_result"
        }
      ],
      "source": [
        "import numpy as np\n",
        "np.linspace(1,10,4)"
      ]
    },
    {
      "cell_type": "code",
      "execution_count": null,
      "metadata": {
        "colab": {
          "base_uri": "https://localhost:8080/"
        },
        "id": "ZlcNA3B8cJEg",
        "outputId": "fc98e189-e2f1-4b07-ecab-7a97e232f316"
      },
      "outputs": [
        {
          "data": {
            "text/plain": [
              "array([ 10.,  20.,  30.,  40.,  50.,  60.,  70.,  80.,  90., 100.])"
            ]
          },
          "execution_count": 4,
          "metadata": {},
          "output_type": "execute_result"
        }
      ],
      "source": [
        "np.linspace(10,100,10) # create an array of fixed length"
      ]
    },
    {
      "cell_type": "code",
      "execution_count": null,
      "metadata": {
        "colab": {
          "base_uri": "https://localhost:8080/"
        },
        "id": "uqFRIf6scVmC",
        "outputId": "b5a12001-77cf-4ef8-b05f-41285d320e33"
      },
      "outputs": [
        {
          "data": {
            "text/plain": [
              "array([ 20.,  65., 110., 155., 200.])"
            ]
          },
          "execution_count": 14,
          "metadata": {},
          "output_type": "execute_result"
        }
      ],
      "source": [
        "np.linspace(20,200, 5)"
      ]
    },
    {
      "cell_type": "code",
      "execution_count": null,
      "metadata": {
        "colab": {
          "base_uri": "https://localhost:8080/"
        },
        "id": "bah9EQ9ro-Gc",
        "outputId": "33e79c09-5421-4f19-9a36-b2cbecc95e8e"
      },
      "outputs": [
        {
          "data": {
            "text/plain": [
              "array([  1. ,  10.9,  20.8,  30.7,  40.6,  50.5,  60.4,  70.3,  80.2,\n",
              "        90.1, 100. ])"
            ]
          },
          "execution_count": 212,
          "metadata": {},
          "output_type": "execute_result"
        }
      ],
      "source": [
        "np.linspace(1,100,11)"
      ]
    },
    {
      "cell_type": "code",
      "execution_count": null,
      "metadata": {
        "colab": {
          "base_uri": "https://localhost:8080/"
        },
        "id": "jatYMd5cj4oU",
        "outputId": "9a4bede1-3cae-4886-b714-d14c521aa5e5"
      },
      "outputs": [
        {
          "name": "stdout",
          "output_type": "stream",
          "text": [
            "[ 1.    12.125 23.25  34.375 45.5   56.625 67.75  78.875 90.   ]\n"
          ]
        }
      ],
      "source": [
        "# creating an array of fixed length\n",
        "np_5 = np.linspace(1,90,9)\n",
        "\n",
        "# checking the created array:np_4\n",
        "print(np_5)"
      ]
    },
    {
      "cell_type": "code",
      "execution_count": null,
      "metadata": {
        "colab": {
          "base_uri": "https://localhost:8080/"
        },
        "id": "pksXo0HEj4oU",
        "outputId": "d47c91bf-2b1f-4c84-cc9f-51f73ab14b5e"
      },
      "outputs": [
        {
          "name": "stdout",
          "output_type": "stream",
          "text": [
            "[ 1.  2.  3.  4.  5.  6.  7.  8.  9. 10.]\n"
          ]
        }
      ],
      "source": [
        "# creating an array of fixed length\n",
        "np_6 = np.linspace(1,10,10)\n",
        "\n",
        "# checking the created array:np_4\n",
        "print(np_6)"
      ]
    },
    {
      "cell_type": "code",
      "execution_count": null,
      "metadata": {
        "colab": {
          "base_uri": "https://localhost:8080/"
        },
        "id": "7YYKy713j4oV",
        "outputId": "55467ef0-86ea-4056-8557-f12d71352629"
      },
      "outputs": [
        {
          "name": "stdout",
          "output_type": "stream",
          "text": [
            "(array([ 1.   , 12.125, 23.25 , 34.375, 45.5  , 56.625, 67.75 , 78.875,\n",
            "       90.   ]), 11.125)\n"
          ]
        }
      ],
      "source": [
        "np_7=np.linspace(1,90,9,retstep=True)\n",
        "print(np_7)"
      ]
    },
    {
      "cell_type": "code",
      "execution_count": null,
      "metadata": {
        "colab": {
          "base_uri": "https://localhost:8080/"
        },
        "id": "_USr_iu9j4ob",
        "outputId": "17c4fe44-39d0-4f91-e88b-30f74bf7014c"
      },
      "outputs": [
        {
          "name": "stdout",
          "output_type": "stream",
          "text": [
            "[1 2 3 4 5 6]\n"
          ]
        }
      ],
      "source": [
        "# Empty array: Return a new array of given shape and type, without initializing entries.\n",
        "x = np.arange(1, 7)\n",
        "print(x)"
      ]
    },
    {
      "cell_type": "code",
      "execution_count": null,
      "metadata": {
        "colab": {
          "base_uri": "https://localhost:8080/"
        },
        "id": "_pw_nLEHj4oc",
        "outputId": "1a71130c-9e64-481a-f895-eb0feda03bd5"
      },
      "outputs": [
        {
          "name": "stdout",
          "output_type": "stream",
          "text": [
            "[23.66691015 28.26880935 29.16666667 26.24       24.32       26.34640646]\n"
          ]
        }
      ],
      "source": [
        "# Creating empty arrays\n",
        "y = np.empty(6)\n",
        "print(y)"
      ]
    },
    {
      "cell_type": "code",
      "execution_count": null,
      "metadata": {
        "colab": {
          "base_uri": "https://localhost:8080/"
        },
        "id": "f3qDDTkz5tv_",
        "outputId": "8da44cfb-a8d7-4152-cd45-0e1c2c35ff77"
      },
      "outputs": [
        {
          "data": {
            "text/plain": [
              "array([6.89665807e-310, 0.00000000e+000, 0.00000000e+000, 0.00000000e+000,\n",
              "       0.00000000e+000, 0.00000000e+000, 0.00000000e+000, 0.00000000e+000])"
            ]
          },
          "execution_count": 149,
          "metadata": {},
          "output_type": "execute_result"
        }
      ],
      "source": [
        "np.empty(8)"
      ]
    },
    {
      "cell_type": "code",
      "execution_count": null,
      "metadata": {
        "colab": {
          "base_uri": "https://localhost:8080/"
        },
        "id": "zc-7mo0Nj4oc",
        "outputId": "765ee4e4-ea21-4cdd-9936-be10a9c0fac2"
      },
      "outputs": [
        {
          "data": {
            "text/plain": [
              "array([10., 20., 30., 40., 50., 60.])"
            ]
          },
          "execution_count": 95,
          "metadata": {},
          "output_type": "execute_result"
        }
      ],
      "source": [
        "# filling the empty array\n",
        "np.multiply(x,10,y)"
      ]
    },
    {
      "cell_type": "code",
      "execution_count": null,
      "metadata": {
        "colab": {
          "base_uri": "https://localhost:8080/"
        },
        "id": "yY2gv0Mfj4od",
        "outputId": "901afa71-37f5-49e0-f7d0-5e546743feef"
      },
      "outputs": [
        {
          "data": {
            "text/plain": [
              "array([ 10.,  40.,  90., 160., 250., 360.])"
            ]
          },
          "execution_count": 96,
          "metadata": {},
          "output_type": "execute_result"
        }
      ],
      "source": [
        "# printing the output obtained above\n",
        "y*x"
      ]
    },
    {
      "cell_type": "code",
      "execution_count": null,
      "metadata": {
        "colab": {
          "base_uri": "https://localhost:8080/"
        },
        "id": "FlUkvBjPj4ok",
        "outputId": "353586c7-99ae-4bb1-809b-9ee6d66fdc08"
      },
      "outputs": [
        {
          "data": {
            "text/plain": [
              "array([[7, 7, 7],\n",
              "       [7, 7, 7],\n",
              "       [7, 7, 7],\n",
              "       [7, 7, 7]])"
            ]
          },
          "execution_count": 97,
          "metadata": {},
          "output_type": "execute_result"
        }
      ],
      "source": [
        "# Creating a 4 x 3 array of 7s using np.full()\n",
        "# The default data type here is 'int' only\n",
        "np.full((4,3), 7)"
      ]
    },
    {
      "cell_type": "code",
      "execution_count": null,
      "metadata": {
        "colab": {
          "base_uri": "https://localhost:8080/"
        },
        "id": "B8Kkr9nL5_YU",
        "outputId": "cec8ac32-2529-4b81-86f0-952abcd8f609"
      },
      "outputs": [
        {
          "data": {
            "text/plain": [
              "[0, 1, 2, 0, 1, 2, 0, 1, 2]"
            ]
          },
          "execution_count": 150,
          "metadata": {},
          "output_type": "execute_result"
        }
      ],
      "source": [
        " [0, 1, 2]*3"
      ]
    },
    {
      "cell_type": "code",
      "execution_count": null,
      "metadata": {
        "colab": {
          "base_uri": "https://localhost:8080/"
        },
        "id": "v223gTqmj4ol",
        "outputId": "f8b2864e-0d08-4feb-9b11-ea5779d2a0ba"
      },
      "outputs": [
        {
          "data": {
            "text/plain": [
              "array([0, 1, 2, 0, 1, 2, 0, 1, 2])"
            ]
          },
          "execution_count": 151,
          "metadata": {},
          "output_type": "execute_result"
        }
      ],
      "source": [
        "# Given an array, np.tile() creates a new array by repeating the given array for any number of times that you want\n",
        "# The default data type her is int only\n",
        "arr = [0, 1, 2]\n",
        "np.tile(arr, 3)"
      ]
    },
    {
      "cell_type": "code",
      "execution_count": null,
      "metadata": {
        "colab": {
          "base_uri": "https://localhost:8080/"
        },
        "id": "ABB6iIYkj4om",
        "outputId": "731f7ac2-3a5d-47e3-e8ee-f18c139d0fb7"
      },
      "outputs": [
        {
          "data": {
            "text/plain": [
              "array([[0, 1, 2, 0, 1, 2],\n",
              "       [0, 1, 2, 0, 1, 2],\n",
              "       [0, 1, 2, 0, 1, 2]])"
            ]
          },
          "execution_count": 99,
          "metadata": {},
          "output_type": "execute_result"
        }
      ],
      "source": [
        "# You can also create multidimensional arrays using np.tile()\n",
        "np.tile(arr, (3,2))   # can't do columnwise"
      ]
    },
    {
      "cell_type": "code",
      "execution_count": null,
      "metadata": {
        "colab": {
          "base_uri": "https://localhost:8080/"
        },
        "id": "JbJ6IGnEj4on",
        "outputId": "29f8ecab-c406-4822-8266-b81fba2a97a5"
      },
      "outputs": [
        {
          "data": {
            "text/plain": [
              "array([[[0, 1, 2, 0, 1, 2, 0, 1, 2],\n",
              "        [0, 1, 2, 0, 1, 2, 0, 1, 2],\n",
              "        [0, 1, 2, 0, 1, 2, 0, 1, 2],\n",
              "        [0, 1, 2, 0, 1, 2, 0, 1, 2]],\n",
              "\n",
              "       [[0, 1, 2, 0, 1, 2, 0, 1, 2],\n",
              "        [0, 1, 2, 0, 1, 2, 0, 1, 2],\n",
              "        [0, 1, 2, 0, 1, 2, 0, 1, 2],\n",
              "        [0, 1, 2, 0, 1, 2, 0, 1, 2]]])"
            ]
          },
          "execution_count": 100,
          "metadata": {},
          "output_type": "execute_result"
        }
      ],
      "source": [
        "np.tile(arr, (2,4,3))"
      ]
    },
    {
      "cell_type": "code",
      "execution_count": null,
      "metadata": {
        "colab": {
          "base_uri": "https://localhost:8080/"
        },
        "id": "_kUz7jB7j4op",
        "outputId": "61c08a7b-951e-4293-e8ae-e25f43a01d34"
      },
      "outputs": [
        {
          "data": {
            "text/plain": [
              "array([[1, 0, 0],\n",
              "       [0, 1, 0],\n",
              "       [0, 0, 1]])"
            ]
          },
          "execution_count": 101,
          "metadata": {},
          "output_type": "execute_result"
        }
      ],
      "source": [
        "# Create a 3 x 3 identity matrix using np.eye()\n",
        "# The default data type here is float. So if we want integer values, we need to specify the dtype to be int\n",
        "np.eye(3, dtype = int)"
      ]
    },
    {
      "cell_type": "code",
      "execution_count": null,
      "metadata": {
        "colab": {
          "base_uri": "https://localhost:8080/"
        },
        "id": "QqfBOn6Bj4op",
        "outputId": "aea0615d-3bde-456b-f950-e598fec1001c",
        "scrolled": true
      },
      "outputs": [
        {
          "data": {
            "text/plain": [
              "array([[1, 0, 0, 0, 0, 0],\n",
              "       [0, 1, 0, 0, 0, 0],\n",
              "       [0, 0, 1, 0, 0, 0],\n",
              "       [0, 0, 0, 1, 0, 0],\n",
              "       [0, 0, 0, 0, 1, 0],\n",
              "       [0, 0, 0, 0, 0, 1]])"
            ]
          },
          "execution_count": 102,
          "metadata": {},
          "output_type": "execute_result"
        }
      ],
      "source": [
        "np.eye(6, dtype = int)"
      ]
    },
    {
      "cell_type": "code",
      "execution_count": null,
      "metadata": {
        "colab": {
          "base_uri": "https://localhost:8080/"
        },
        "id": "rZxYp4RTj4oq",
        "outputId": "eae0e462-54bb-40b4-889f-dbd90acd0304"
      },
      "outputs": [
        {
          "data": {
            "text/plain": [
              "array([[1., 0.],\n",
              "       [0., 1.]])"
            ]
          },
          "execution_count": 103,
          "metadata": {},
          "output_type": "execute_result"
        }
      ],
      "source": [
        "np.eye(2)"
      ]
    },
    {
      "cell_type": "code",
      "execution_count": null,
      "metadata": {
        "colab": {
          "base_uri": "https://localhost:8080/"
        },
        "id": "gnpxFOWXj4or",
        "outputId": "0beeae53-786f-4964-fbc5-4f2af2b2bdf7"
      },
      "outputs": [
        {
          "data": {
            "text/plain": [
              "array([[0.62667802, 0.15836335, 0.30719545, 0.48473194],\n",
              "       [0.59915983, 0.02653011, 0.55197619, 0.35501177],\n",
              "       [0.95816825, 0.52894188, 0.86339561, 0.33096911]])"
            ]
          },
          "execution_count": 104,
          "metadata": {},
          "output_type": "execute_result"
        }
      ],
      "source": [
        "# Create a 3 x 3 array of random numbers between 0 and 1\n",
        "np.random.random([3, 4])"
      ]
    },
    {
      "cell_type": "code",
      "execution_count": null,
      "metadata": {
        "colab": {
          "base_uri": "https://localhost:8080/"
        },
        "id": "I8qeNOM3el5M",
        "outputId": "34dce9e8-1309-4673-e2dd-54c6fe953764"
      },
      "outputs": [
        {
          "data": {
            "text/plain": [
              "array([[0.27621781, 0.8524397 , 0.37970029, 0.7145797 , 0.6001672 ],\n",
              "       [0.34204639, 0.74816384, 0.82893563, 0.42439971, 0.59256171]])"
            ]
          },
          "execution_count": 20,
          "metadata": {},
          "output_type": "execute_result"
        }
      ],
      "source": [
        "# np.random.random()\n",
        "# np.random.randint()\n",
        "np.random.random([2,5])"
      ]
    },
    {
      "cell_type": "code",
      "execution_count": null,
      "metadata": {
        "colab": {
          "base_uri": "https://localhost:8080/"
        },
        "id": "ePW7nS4gfMTP",
        "outputId": "e29210d5-fc4c-425a-ab25-0fd5ae678e1d"
      },
      "outputs": [
        {
          "data": {
            "text/plain": [
              "array([[180, 189, 101, 195],\n",
              "       [193, 136, 175, 101],\n",
              "       [188, 175, 147, 194]])"
            ]
          },
          "execution_count": 23,
          "metadata": {},
          "output_type": "execute_result"
        }
      ],
      "source": [
        "np.random.randint(100,200, (3,4))"
      ]
    },
    {
      "cell_type": "code",
      "execution_count": null,
      "metadata": {
        "colab": {
          "base_uri": "https://localhost:8080/"
        },
        "id": "7wWwZOu0ff_9",
        "outputId": "5d068d8b-b9f2-4a22-f47c-14dde9e10835"
      },
      "outputs": [
        {
          "data": {
            "text/plain": [
              "array([[162, 128, 178, 159, 143],\n",
              "       [107, 153, 161, 120, 192],\n",
              "       [109, 104, 112, 185, 163],\n",
              "       [176, 139, 172, 187, 197],\n",
              "       [199, 175, 183, 156, 165]])"
            ]
          },
          "execution_count": 24,
          "metadata": {},
          "output_type": "execute_result"
        }
      ],
      "source": [
        "np.random.randint(100,200, (5,5))"
      ]
    },
    {
      "cell_type": "code",
      "execution_count": null,
      "metadata": {
        "colab": {
          "base_uri": "https://localhost:8080/"
        },
        "id": "Zp7FPNnJelpi",
        "outputId": "faaf5828-d2a6-4f4a-99c9-4dfdf4948f04"
      },
      "outputs": [
        {
          "data": {
            "text/plain": [
              "0.5355576714808324"
            ]
          },
          "execution_count": 15,
          "metadata": {},
          "output_type": "execute_result"
        }
      ],
      "source": [
        "import random\n",
        "random.random()"
      ]
    },
    {
      "cell_type": "code",
      "execution_count": null,
      "metadata": {
        "colab": {
          "base_uri": "https://localhost:8080/"
        },
        "id": "cTKWtqnCes54",
        "outputId": "f0d9ec59-22d9-484c-c156-e60d5ad40ce6"
      },
      "outputs": [
        {
          "data": {
            "text/plain": [
              "10"
            ]
          },
          "execution_count": 21,
          "metadata": {},
          "output_type": "execute_result"
        }
      ],
      "source": [
        "random.randint(10,20)"
      ]
    },
    {
      "cell_type": "markdown",
      "metadata": {
        "id": "BfVnjhqgzMP2"
      },
      "source": [
        "**.randint()**\n",
        "\n",
        "`random.randint(low, high=None, size=None, dtype=int)`\n",
        "\n",
        "Return random integers from low (inclusive) to high (exclusive)."
      ]
    },
    {
      "cell_type": "code",
      "execution_count": null,
      "metadata": {
        "colab": {
          "base_uri": "https://localhost:8080/"
        },
        "id": "uJCm2B2Hj4or",
        "outputId": "2c544b9e-c44e-49f3-b536-956d46ed560c"
      },
      "outputs": [
        {
          "data": {
            "text/plain": [
              "array([[28, 26, 26, 24],\n",
              "       [26, 26, 25, 25],\n",
              "       [21, 29, 24, 21],\n",
              "       [27, 22, 24, 20]])"
            ]
          },
          "execution_count": 105,
          "metadata": {},
          "output_type": "execute_result"
        }
      ],
      "source": [
        "# Create a 4 x 4 random array of integers ranging from 0 to 9\n",
        "np.random.randint(20, 30, (4,4))"
      ]
    },
    {
      "cell_type": "code",
      "execution_count": null,
      "metadata": {
        "colab": {
          "base_uri": "https://localhost:8080/"
        },
        "id": "dw9xjhYHj4os",
        "outputId": "e1d04b51-6d57-4664-a0b8-2a72dcfc1215"
      },
      "outputs": [
        {
          "data": {
            "text/plain": [
              "array([[6, 3, 1, 6],\n",
              "       [7, 9, 0, 7],\n",
              "       [3, 7, 3, 8],\n",
              "       [0, 8, 8, 9]])"
            ]
          },
          "execution_count": 106,
          "metadata": {},
          "output_type": "execute_result"
        }
      ],
      "source": [
        "# Create a 4 x 4 random array of integers ranging from 0 to 9\n",
        "np.random.randint(0, 10, (4,4))"
      ]
    },
    {
      "cell_type": "markdown",
      "metadata": {
        "id": "kVbqo68s01ue"
      },
      "source": [
        "**random.seed()**\n",
        "\n",
        "Seed function is used to save the state of a random function, so that it can generate same random numbers on multiple executions of the code on the same machine or on different machines (for a specific seed value). The seed value is the previous value number generated by the generator. For the first time when there is no previous value, it uses current system time."
      ]
    },
    {
      "cell_type": "code",
      "execution_count": null,
      "metadata": {
        "colab": {
          "base_uri": "https://localhost:8080/"
        },
        "id": "etJORnXYj4ot",
        "outputId": "f50c4d55-d0e3-49e2-f343-d086297ab718"
      },
      "outputs": [
        {
          "data": {
            "text/plain": [
              "array([[5, 8, 9, 5],\n",
              "       [0, 0, 1, 7],\n",
              "       [6, 9, 2, 4],\n",
              "       [5, 2, 4, 2]])"
            ]
          },
          "execution_count": 26,
          "metadata": {},
          "output_type": "execute_result"
        }
      ],
      "source": [
        "np.random.seed(1)\n",
        "# Create a 4 x 4 random array of integers ranging from 0 to 9\n",
        "np.random.randint(0, 10, (4,4))"
      ]
    },
    {
      "cell_type": "code",
      "execution_count": null,
      "metadata": {
        "colab": {
          "base_uri": "https://localhost:8080/"
        },
        "id": "6t-2L-P9j4ot",
        "outputId": "2748996f-e6be-4930-8b7d-01005cc4748f"
      },
      "outputs": [
        {
          "data": {
            "text/plain": [
              "array([[5, 8, 9, 5],\n",
              "       [0, 0, 1, 7],\n",
              "       [6, 9, 2, 4],\n",
              "       [5, 2, 4, 2]])"
            ]
          },
          "execution_count": 108,
          "metadata": {},
          "output_type": "execute_result"
        }
      ],
      "source": [
        "np.random.seed(1)\n",
        "# Create a 4 x 4 random array of integers ranging from 0 to 9\n",
        "np.random.randint(0, 10, (4,4))"
      ]
    },
    {
      "cell_type": "markdown",
      "metadata": {
        "id": "pgz8XNL2j4pB"
      },
      "source": [
        "# NumPy Array - Search"
      ]
    },
    {
      "cell_type": "markdown",
      "metadata": {
        "id": "2FH1J-RKj4pB"
      },
      "source": [
        "## Searching Arrays\n",
        "\n",
        "### You can search an array for a certain value, and return the indexes that get a match.\n",
        "\n",
        "### To search an array, use the where() method."
      ]
    },
    {
      "cell_type": "code",
      "execution_count": null,
      "metadata": {
        "id": "xAuJ6QDDsGLd"
      },
      "outputs": [],
      "source": [
        "arr = np.array([1, 2, 3, 4, 5, 4, 3, 4])"
      ]
    },
    {
      "cell_type": "code",
      "execution_count": null,
      "metadata": {
        "colab": {
          "base_uri": "https://localhost:8080/"
        },
        "id": "0G7i9v1XsXSd",
        "outputId": "baf3a60c-5850-45a3-d553-fffc6a62aa21"
      },
      "outputs": [
        {
          "output_type": "execute_result",
          "data": {
            "text/plain": [
              "array([1, 2, 3, 4, 5, 4, 3, 4])"
            ]
          },
          "metadata": {},
          "execution_count": 122
        }
      ],
      "source": [
        "arr"
      ]
    },
    {
      "cell_type": "code",
      "source": [
        "arr[arr == 4]"
      ],
      "metadata": {
        "colab": {
          "base_uri": "https://localhost:8080/"
        },
        "id": "hwfzn6fWhsqk",
        "outputId": "3a58eb6a-4f75-413e-8b64-b6799a5681b3"
      },
      "execution_count": null,
      "outputs": [
        {
          "output_type": "execute_result",
          "data": {
            "text/plain": [
              "array([4, 4, 4])"
            ]
          },
          "metadata": {},
          "execution_count": 123
        }
      ]
    },
    {
      "cell_type": "code",
      "source": [
        "np.where(arr == 4)"
      ],
      "metadata": {
        "colab": {
          "base_uri": "https://localhost:8080/"
        },
        "id": "hpDmKlpkh2Mk",
        "outputId": "9d140536-3df7-4b7f-9cac-2fefd9af51f8"
      },
      "execution_count": null,
      "outputs": [
        {
          "output_type": "execute_result",
          "data": {
            "text/plain": [
              "(array([3, 5, 7]),)"
            ]
          },
          "metadata": {},
          "execution_count": 124
        }
      ]
    },
    {
      "cell_type": "code",
      "execution_count": null,
      "metadata": {
        "colab": {
          "base_uri": "https://localhost:8080/"
        },
        "id": "CWwCVJk2tKt4",
        "outputId": "ccd0017d-3f0b-42fa-ed2b-dc0c37dfa6c1"
      },
      "outputs": [
        {
          "data": {
            "text/plain": [
              "(array([3, 5, 7]),)"
            ]
          },
          "execution_count": 34,
          "metadata": {},
          "output_type": "execute_result"
        }
      ],
      "source": [
        "# # comparison\n",
        "# arr[arr == 4]\n",
        "\n",
        "# search for an element - & we are expecting the positions of taht element\n",
        "\n",
        "np.where(arr == 4)   #  to search inside a numpy array"
      ]
    },
    {
      "cell_type": "code",
      "execution_count": null,
      "metadata": {
        "colab": {
          "base_uri": "https://localhost:8080/"
        },
        "id": "cMdmjU_CsHU6",
        "outputId": "69ca0554-e41d-4703-ff02-55807c270dea"
      },
      "outputs": [
        {
          "output_type": "execute_result",
          "data": {
            "text/plain": [
              "(array([2, 6]),)"
            ]
          },
          "metadata": {},
          "execution_count": 125
        }
      ],
      "source": [
        "# search for 3\n",
        "np.where(arr == 3)"
      ]
    },
    {
      "cell_type": "code",
      "execution_count": null,
      "metadata": {
        "colab": {
          "base_uri": "https://localhost:8080/"
        },
        "id": "wIWSvRVas3gI",
        "outputId": "ec268426-9237-4377-92d3-3b1078a1954c"
      },
      "outputs": [
        {
          "data": {
            "text/plain": [
              "tuple"
            ]
          },
          "execution_count": 236,
          "metadata": {},
          "output_type": "execute_result"
        }
      ],
      "source": [
        "type(np.where(arr == 3))"
      ]
    },
    {
      "cell_type": "code",
      "execution_count": null,
      "metadata": {
        "colab": {
          "base_uri": "https://localhost:8080/"
        },
        "id": "RDsjG39dj4pB",
        "outputId": "34d06744-5928-4a7b-b537-65a1bee1fbb1"
      },
      "outputs": [
        {
          "name": "stdout",
          "output_type": "stream",
          "text": [
            "(array([3, 5, 6]),)\n"
          ]
        }
      ],
      "source": [
        "import numpy as np\n",
        "\n",
        "#Find the indexes where the value is 4:\n",
        "arr = np.array([1, 2, 3, 4, 5, 4, 4])\n",
        "\n",
        "x = np.where(arr == 4)\n",
        "\n",
        "print(x)"
      ]
    },
    {
      "cell_type": "code",
      "execution_count": null,
      "metadata": {
        "colab": {
          "base_uri": "https://localhost:8080/"
        },
        "id": "USoeBeoAuY1J",
        "outputId": "021f93cb-3000-4f5c-8265-1d0ed442ea9c"
      },
      "outputs": [
        {
          "data": {
            "text/plain": [
              "array([1, 0, 1, 0, 1, 0, 1, 0])"
            ]
          },
          "execution_count": 242,
          "metadata": {},
          "output_type": "execute_result"
        }
      ],
      "source": [
        "arr%2"
      ]
    },
    {
      "cell_type": "code",
      "execution_count": null,
      "metadata": {
        "colab": {
          "base_uri": "https://localhost:8080/"
        },
        "id": "ijs-Trb3j4pC",
        "outputId": "18d242b9-a2ee-4cfb-e843-8bedb05683c9"
      },
      "outputs": [
        {
          "name": "stdout",
          "output_type": "stream",
          "text": [
            "(array([1, 3, 5, 7]),)\n"
          ]
        }
      ],
      "source": [
        "#Find the indexes where the values are even:\n",
        "arr = np.array([1, 2, 3, 4, 5, 6, 7, 8])\n",
        "\n",
        "x = np.where(arr%2==0)\n",
        "\n",
        "print(x)"
      ]
    },
    {
      "cell_type": "code",
      "execution_count": null,
      "metadata": {
        "colab": {
          "base_uri": "https://localhost:8080/"
        },
        "id": "Z4EY5sHej4pC",
        "outputId": "f6fcb5a2-6d4c-4db1-d575-e664992f30f4"
      },
      "outputs": [
        {
          "name": "stdout",
          "output_type": "stream",
          "text": [
            "(array([0, 2, 4, 6]),)\n"
          ]
        }
      ],
      "source": [
        "#Find the indexes where the values are odd:\n",
        "\n",
        "arr = np.array([1, 2, 3, 4, 5, 6, 7, 8])\n",
        "\n",
        "x = np.where(arr%2 == 1)\n",
        "\n",
        "print(x)"
      ]
    },
    {
      "cell_type": "code",
      "execution_count": null,
      "metadata": {
        "colab": {
          "base_uri": "https://localhost:8080/"
        },
        "id": "PNXGvNyzuv5E",
        "outputId": "44f64a60-25cd-4e45-edde-be084fca188d"
      },
      "outputs": [
        {
          "data": {
            "text/plain": [
              "array([10, 16,  4,  7,  9])"
            ]
          },
          "execution_count": 253,
          "metadata": {},
          "output_type": "execute_result"
        }
      ],
      "source": [
        "arr = np.array([10, 16, 4 , 7, 9])\n",
        "\n",
        "arr"
      ]
    },
    {
      "cell_type": "code",
      "execution_count": null,
      "metadata": {
        "colab": {
          "base_uri": "https://localhost:8080/"
        },
        "id": "vPb-tD2uu0Pc",
        "outputId": "48d65399-52a0-463a-a5e5-f70d8785cb55"
      },
      "outputs": [
        {
          "data": {
            "text/plain": [
              "(array([3]),)"
            ]
          },
          "execution_count": 254,
          "metadata": {},
          "output_type": "execute_result"
        }
      ],
      "source": [
        "np.where(arr == 7)"
      ]
    },
    {
      "cell_type": "markdown",
      "metadata": {
        "id": "BnaE8uqZtaE0"
      },
      "source": [
        "# NumPy Cheat Sheets\n",
        "\n",
        "[Cheat Sheet 1: DataCamp NumPy](https://s3.amazonaws.com/assets.datacamp.com/blog_assets/Numpy_Python_Cheat_Sheet.pdf)\n",
        "\n",
        "[Cheat Sheet 2: Basic NumPy](https://cdn.intellipaat.com/mediaFiles/2018/12/Python-NumPy-Cheat-Sheet-.pdf)\n",
        "\n",
        "[Cheat Sheet 3: A Little Bit of Everything](http://datasciencefree.com/numpy.pdf)\n",
        "\n",
        "[Cheat Sheet 4: Data Science](https://s3.amazonaws.com/dq-blog-files/numpy-cheat-sheet.pdf)\n",
        "\n",
        "[Cheat Sheet 5: Scientific Python](https://ipgp.github.io/scientific_python_cheat_sheet/?utm_content=buffer7d821&utm_medium=social&utm_source=twitter.com&utm_campaign=buffer#numpy-import-numpy-as-np)\n",
        "\n"
      ]
    },
    {
      "cell_type": "markdown",
      "source": [
        "## Case study 1:\n",
        "#### You are provided with data from a fitness tracker app. The data consists of two lists: steps and calories_burned. The steps list contains the number of steps taken by a user on different days, and the calories_burned list contains the corresponding number of calories burned by the user on those days. As part of this exercise, solve the questions provided below.\n",
        "\n",
        "\n",
        "####Data:\n",
        "####steps = [8000, 6000, 10000, 7500, 9000, 8500, 7000, 9500, 12000, 7000]\n",
        "####calories_burned = [400, 300, 500, 350, 450, 420, 380, 480, 600, 370]\n",
        "\n",
        "\n",
        "\n",
        "1. How many days of data are available?\n",
        "2. What is the average number of steps taken per day?\n",
        "3. What is the total number of calories burned during the period?\n",
        "4. What is the maximum number of steps taken on a single day?\n",
        "5. On which day did the user burn the most calories?\n",
        "6. How many days did the user take more than 8000 steps?\n",
        "7. What is the average number of calories burned per 1000 steps?\n",
        "8. What is the total distance covered (in kilometers) assuming an average of 0.75 meters per step?\n",
        "9. What is the minimum number of steps taken on a single day?\n",
        "10. On which day did the user burn the least calories?\n"
      ],
      "metadata": {
        "id": "bdDOYxQTjS46"
      }
    },
    {
      "cell_type": "code",
      "source": [
        "steps = [8000, 6000, 10000, 7500, 9000, 8500, 7000, 9500, 12000, 7000]\n",
        "calories_burned = [400, 300, 500, 350, 450, 420, 380, 480, 600, 370]"
      ],
      "metadata": {
        "id": "XCfgrDFwjSc3"
      },
      "execution_count": null,
      "outputs": []
    },
    {
      "cell_type": "code",
      "source": [
        "# 8. # What is the total distance covered (in kilometers) assuming an average of 0.75 meters per step?\n",
        "steps.sum() * 0.75 / 1000"
      ],
      "metadata": {
        "colab": {
          "base_uri": "https://localhost:8080/"
        },
        "id": "bnOetZQKnGbW",
        "outputId": "2862751a-a6e3-46ca-d8ef-7e8f36e0b80c"
      },
      "execution_count": null,
      "outputs": [
        {
          "output_type": "execute_result",
          "data": {
            "text/plain": [
              "63.375"
            ]
          },
          "metadata": {},
          "execution_count": 145
        }
      ]
    },
    {
      "cell_type": "code",
      "source": [],
      "metadata": {
        "id": "-IzSzcZwnvoX"
      },
      "execution_count": null,
      "outputs": []
    },
    {
      "cell_type": "code",
      "source": [
        "calories_burned.sum()"
      ],
      "metadata": {
        "colab": {
          "base_uri": "https://localhost:8080/"
        },
        "id": "RKa0qTiimlPY",
        "outputId": "69bbed11-9679-437d-8ac8-6dbce149db6c"
      },
      "execution_count": null,
      "outputs": [
        {
          "output_type": "execute_result",
          "data": {
            "text/plain": [
              "4250"
            ]
          },
          "metadata": {},
          "execution_count": 140
        }
      ]
    },
    {
      "cell_type": "code",
      "source": [
        "steps.sum()"
      ],
      "metadata": {
        "colab": {
          "base_uri": "https://localhost:8080/"
        },
        "id": "A1RxMt1Cmo-u",
        "outputId": "e77a2818-dba6-4fb1-dee0-6699bced9f00"
      },
      "execution_count": null,
      "outputs": [
        {
          "output_type": "execute_result",
          "data": {
            "text/plain": [
              "84500"
            ]
          },
          "metadata": {},
          "execution_count": 141
        }
      ]
    },
    {
      "cell_type": "code",
      "source": [
        "1000 * 4250/84500"
      ],
      "metadata": {
        "colab": {
          "base_uri": "https://localhost:8080/"
        },
        "id": "CQ90sBGAmynV",
        "outputId": "2797bd00-d0ba-4344-b0ea-ebc229e2c4f7"
      },
      "execution_count": null,
      "outputs": [
        {
          "output_type": "execute_result",
          "data": {
            "text/plain": [
              "50.29585798816568"
            ]
          },
          "metadata": {},
          "execution_count": 143
        }
      ]
    },
    {
      "cell_type": "code",
      "source": [
        "steps[steps > 8000].size"
      ],
      "metadata": {
        "colab": {
          "base_uri": "https://localhost:8080/"
        },
        "id": "5Uu2Nq3El_M_",
        "outputId": "53382311-cb5c-4e60-ac78-b2139135df8a"
      },
      "execution_count": null,
      "outputs": [
        {
          "output_type": "execute_result",
          "data": {
            "text/plain": [
              "5"
            ]
          },
          "metadata": {},
          "execution_count": 138
        }
      ]
    },
    {
      "cell_type": "code",
      "source": [
        "np.where(steps > 8000)"
      ],
      "metadata": {
        "colab": {
          "base_uri": "https://localhost:8080/"
        },
        "id": "vmt0QV6smIXU",
        "outputId": "f151828d-75b1-4d9b-dbbd-194baeff0251"
      },
      "execution_count": null,
      "outputs": [
        {
          "output_type": "execute_result",
          "data": {
            "text/plain": [
              "(array([2, 4, 5, 7, 8]),)"
            ]
          },
          "metadata": {},
          "execution_count": 139
        }
      ]
    },
    {
      "cell_type": "code",
      "source": [
        "steps = np.array(steps)\n",
        "calories_burned = np.array(calories_burned)"
      ],
      "metadata": {
        "id": "OK5ywGgXj7fj"
      },
      "execution_count": null,
      "outputs": []
    },
    {
      "cell_type": "code",
      "source": [
        "steps.mean()"
      ],
      "metadata": {
        "colab": {
          "base_uri": "https://localhost:8080/"
        },
        "id": "03qlLu9CkE1h",
        "outputId": "8af1d879-9542-45c3-a7e7-9665c88e0823"
      },
      "execution_count": null,
      "outputs": [
        {
          "output_type": "execute_result",
          "data": {
            "text/plain": [
              "8450.0"
            ]
          },
          "metadata": {},
          "execution_count": 128
        }
      ]
    },
    {
      "cell_type": "code",
      "source": [
        "# On which day did the user burn the most calories?\n",
        "calories_burned.max()"
      ],
      "metadata": {
        "colab": {
          "base_uri": "https://localhost:8080/"
        },
        "id": "SEKHkOkUkLAN",
        "outputId": "f72986f8-ad3d-49f2-d828-a24650c54092"
      },
      "execution_count": null,
      "outputs": [
        {
          "output_type": "execute_result",
          "data": {
            "text/plain": [
              "600"
            ]
          },
          "metadata": {},
          "execution_count": 129
        }
      ]
    },
    {
      "cell_type": "code",
      "source": [
        "calories_burned == calories_burned.max()"
      ],
      "metadata": {
        "colab": {
          "base_uri": "https://localhost:8080/"
        },
        "id": "PeUnQeCykkzr",
        "outputId": "108199da-80c1-42ff-96d3-e0fddd7e3ca9"
      },
      "execution_count": null,
      "outputs": [
        {
          "output_type": "execute_result",
          "data": {
            "text/plain": [
              "array([False, False, False, False, False, False, False, False,  True,\n",
              "       False])"
            ]
          },
          "metadata": {},
          "execution_count": 131
        }
      ]
    },
    {
      "cell_type": "code",
      "source": [
        "print(f\"On day {np.where(calories_burned == calories_burned.max())[0][0]+ 1}, the user burn the most calories.\")\n"
      ],
      "metadata": {
        "colab": {
          "base_uri": "https://localhost:8080/"
        },
        "id": "l2vhjw_akr0F",
        "outputId": "f9bfb66f-14f5-4320-afa6-1024c4d75cad"
      },
      "execution_count": null,
      "outputs": [
        {
          "output_type": "stream",
          "name": "stdout",
          "text": [
            "On day 9, the user burn the most calories.\n"
          ]
        }
      ]
    },
    {
      "cell_type": "code",
      "source": [],
      "metadata": {
        "id": "f9bWAqOvlHj6"
      },
      "execution_count": null,
      "outputs": []
    }
  ],
  "metadata": {
    "colab": {
      "provenance": [],
      "include_colab_link": true
    },
    "kernelspec": {
      "display_name": "Python 3 (ipykernel)",
      "language": "python",
      "name": "python3"
    },
    "language_info": {
      "codemirror_mode": {
        "name": "ipython",
        "version": 3
      },
      "file_extension": ".py",
      "mimetype": "text/x-python",
      "name": "python",
      "nbconvert_exporter": "python",
      "pygments_lexer": "ipython3",
      "version": "3.8.13"
    }
  },
  "nbformat": 4,
  "nbformat_minor": 0
}